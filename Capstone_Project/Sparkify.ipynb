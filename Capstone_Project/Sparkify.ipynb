{
 "cells": [
  {
   "cell_type": "markdown",
   "metadata": {},
   "source": [
    "# Sparkify Project Workspace\n",
    "This workspace contains a tiny subset (128MB) of the full dataset available (12GB). I have used only subset of this data for the analysis results."
   ]
  },
  {
   "cell_type": "code",
   "execution_count": 1,
   "metadata": {},
   "outputs": [
    {
     "name": "stdout",
     "output_type": "stream",
     "text": [
      "Sparkify-zh.ipynb\n",
      "Sparkify.ipynb\n",
      "mini_sparkify_event_data.json\n",
      "notebook.tar.gz\n",
      "tar: notebook.tar.gz: file changed as we read it\n",
      "spark-warehouse/\n"
     ]
    }
   ],
   "source": [
    "# Extract data\n",
    "!tar chvfz notebook.tar.gz *"
   ]
  },
  {
   "cell_type": "code",
   "execution_count": 2,
   "metadata": {},
   "outputs": [
    {
     "name": "stdout",
     "output_type": "stream",
     "text": [
      "mini_sparkify_event_data.json  Sparkify.ipynb\t  spark-warehouse\r\n",
      "notebook.tar.gz\t\t       Sparkify-zh.ipynb\r\n"
     ]
    }
   ],
   "source": [
    "!ls"
   ]
  },
  {
   "cell_type": "markdown",
   "metadata": {},
   "source": [
    "### Packages"
   ]
  },
  {
   "cell_type": "code",
   "execution_count": 3,
   "metadata": {},
   "outputs": [],
   "source": [
    "# import libraries\n",
    "from pyspark.sql import SparkSession\n",
    "from pyspark.sql.functions import udf\n",
    "from pyspark.sql.functions import col, lit, udf, isnan, count, when, desc, sort_array, asc, avg, lag, floor\n",
    "from pyspark.sql.types import IntegerType, DateType\n",
    "from pyspark.sql.window import Window\n",
    "from pyspark.sql.functions import sum as Fsum\n",
    "from pyspark.ml.feature import VectorAssembler\n",
    "from pyspark.ml.feature import MinMaxScaler #used because won't distort binary vars\n",
    "from pyspark.sql.types import DoubleType\n",
    "from pyspark.ml.tuning import CrossValidator, ParamGridBuilder\n",
    "import datetime\n",
    "from pyspark.ml import Pipeline \n",
    "from pyspark.ml.evaluation import MulticlassClassificationEvaluator\n",
    "from pyspark.ml.classification import LogisticRegression, RandomForestClassifier, LinearSVC, GBTClassifier\n",
    "from pyspark.ml.evaluation import BinaryClassificationEvaluator\n",
    "from pyspark.mllib.evaluation import MulticlassMetrics\n",
    "import pandas as pd\n",
    "import re\n",
    "import matplotlib.pyplot as plt\n",
    "import seaborn as sns\n",
    "\n",
    "\n",
    "from pyspark.ml.feature import RegexTokenizer, CountVectorizer, \\\n",
    "    IDF, StringIndexer, VectorAssembler, Normalizer, StandardScaler\n",
    "\n"
   ]
  },
  {
   "cell_type": "code",
   "execution_count": 4,
   "metadata": {},
   "outputs": [
    {
     "name": "stdout",
     "output_type": "stream",
     "text": [
      "root\n",
      " |-- artist: string (nullable = true)\n",
      " |-- auth: string (nullable = true)\n",
      " |-- firstName: string (nullable = true)\n",
      " |-- gender: string (nullable = true)\n",
      " |-- itemInSession: long (nullable = true)\n",
      " |-- lastName: string (nullable = true)\n",
      " |-- length: double (nullable = true)\n",
      " |-- level: string (nullable = true)\n",
      " |-- location: string (nullable = true)\n",
      " |-- method: string (nullable = true)\n",
      " |-- page: string (nullable = true)\n",
      " |-- registration: long (nullable = true)\n",
      " |-- sessionId: long (nullable = true)\n",
      " |-- song: string (nullable = true)\n",
      " |-- status: long (nullable = true)\n",
      " |-- ts: long (nullable = true)\n",
      " |-- userAgent: string (nullable = true)\n",
      " |-- userId: string (nullable = true)\n",
      "\n"
     ]
    }
   ],
   "source": [
    "# create a Spark session\n",
    "spark = SparkSession.builder \\\n",
    "    .master(\"local\") \\\n",
    "    .appName(\"Identify Features\") \\\n",
    "    .getOrCreate()\n",
    "\n",
    "df = spark.read.json('mini_sparkify_event_data.json')\n",
    "\n",
    "# Print schema for future reference\n",
    "df.printSchema()"
   ]
  },
  {
   "cell_type": "markdown",
   "metadata": {},
   "source": [
    "# Load and Clean Dataset\n",
    "In this workspace, the mini-dataset file is `mini_sparkify_event_data.json`. Load and clean the dataset, checking for invalid or missing data - for example, records without userids or sessionids. "
   ]
  },
  {
   "cell_type": "code",
   "execution_count": 5,
   "metadata": {},
   "outputs": [
    {
     "data": {
      "text/plain": [
       "Row(artist='Martha Tilston', auth='Logged In', firstName='Colin', gender='M', itemInSession=50, lastName='Freeman', length=277.89016, level='paid', location='Bakersfield, CA', method='PUT', page='NextSong', registration=1538173362000, sessionId=29, song='Rockpools', status=200, ts=1538352117000, userAgent='Mozilla/5.0 (Windows NT 6.1; WOW64; rv:31.0) Gecko/20100101 Firefox/31.0', userId='30')"
      ]
     },
     "execution_count": 5,
     "metadata": {},
     "output_type": "execute_result"
    }
   ],
   "source": [
    "df.head()"
   ]
  },
  {
   "cell_type": "code",
   "execution_count": 6,
   "metadata": {},
   "outputs": [
    {
     "data": {
      "text/plain": [
       "DataFrame[artist: string, auth: string, firstName: string, gender: string, itemInSession: bigint, lastName: string, length: double, level: string, location: string, method: string, page: string, registration: bigint, sessionId: bigint, song: string, status: bigint, ts: bigint, userAgent: string, userId: string]"
      ]
     },
     "execution_count": 6,
     "metadata": {},
     "output_type": "execute_result"
    }
   ],
   "source": [
    "df.persist()"
   ]
  },
  {
   "cell_type": "code",
   "execution_count": 7,
   "metadata": {},
   "outputs": [
    {
     "data": {
      "text/html": [
       "<div>\n",
       "<style scoped>\n",
       "    .dataframe tbody tr th:only-of-type {\n",
       "        vertical-align: middle;\n",
       "    }\n",
       "\n",
       "    .dataframe tbody tr th {\n",
       "        vertical-align: top;\n",
       "    }\n",
       "\n",
       "    .dataframe thead th {\n",
       "        text-align: right;\n",
       "    }\n",
       "</style>\n",
       "<table border=\"1\" class=\"dataframe\">\n",
       "  <thead>\n",
       "    <tr style=\"text-align: right;\">\n",
       "      <th></th>\n",
       "      <th>artist</th>\n",
       "      <th>auth</th>\n",
       "      <th>firstName</th>\n",
       "      <th>gender</th>\n",
       "      <th>itemInSession</th>\n",
       "      <th>lastName</th>\n",
       "      <th>length</th>\n",
       "      <th>level</th>\n",
       "      <th>location</th>\n",
       "      <th>method</th>\n",
       "      <th>page</th>\n",
       "      <th>registration</th>\n",
       "      <th>sessionId</th>\n",
       "      <th>song</th>\n",
       "      <th>status</th>\n",
       "      <th>ts</th>\n",
       "      <th>userAgent</th>\n",
       "      <th>userId</th>\n",
       "    </tr>\n",
       "  </thead>\n",
       "  <tbody>\n",
       "    <tr>\n",
       "      <th>0</th>\n",
       "      <td>Martha Tilston</td>\n",
       "      <td>Logged In</td>\n",
       "      <td>Colin</td>\n",
       "      <td>M</td>\n",
       "      <td>50</td>\n",
       "      <td>Freeman</td>\n",
       "      <td>277.89016</td>\n",
       "      <td>paid</td>\n",
       "      <td>Bakersfield, CA</td>\n",
       "      <td>PUT</td>\n",
       "      <td>NextSong</td>\n",
       "      <td>1.538173e+12</td>\n",
       "      <td>29</td>\n",
       "      <td>Rockpools</td>\n",
       "      <td>200</td>\n",
       "      <td>1538352117000</td>\n",
       "      <td>Mozilla/5.0 (Windows NT 6.1; WOW64; rv:31.0) G...</td>\n",
       "      <td>30</td>\n",
       "    </tr>\n",
       "    <tr>\n",
       "      <th>1</th>\n",
       "      <td>Five Iron Frenzy</td>\n",
       "      <td>Logged In</td>\n",
       "      <td>Micah</td>\n",
       "      <td>M</td>\n",
       "      <td>79</td>\n",
       "      <td>Long</td>\n",
       "      <td>236.09424</td>\n",
       "      <td>free</td>\n",
       "      <td>Boston-Cambridge-Newton, MA-NH</td>\n",
       "      <td>PUT</td>\n",
       "      <td>NextSong</td>\n",
       "      <td>1.538332e+12</td>\n",
       "      <td>8</td>\n",
       "      <td>Canada</td>\n",
       "      <td>200</td>\n",
       "      <td>1538352180000</td>\n",
       "      <td>\"Mozilla/5.0 (Windows NT 6.1; WOW64) AppleWebK...</td>\n",
       "      <td>9</td>\n",
       "    </tr>\n",
       "    <tr>\n",
       "      <th>2</th>\n",
       "      <td>Adam Lambert</td>\n",
       "      <td>Logged In</td>\n",
       "      <td>Colin</td>\n",
       "      <td>M</td>\n",
       "      <td>51</td>\n",
       "      <td>Freeman</td>\n",
       "      <td>282.82730</td>\n",
       "      <td>paid</td>\n",
       "      <td>Bakersfield, CA</td>\n",
       "      <td>PUT</td>\n",
       "      <td>NextSong</td>\n",
       "      <td>1.538173e+12</td>\n",
       "      <td>29</td>\n",
       "      <td>Time For Miracles</td>\n",
       "      <td>200</td>\n",
       "      <td>1538352394000</td>\n",
       "      <td>Mozilla/5.0 (Windows NT 6.1; WOW64; rv:31.0) G...</td>\n",
       "      <td>30</td>\n",
       "    </tr>\n",
       "    <tr>\n",
       "      <th>3</th>\n",
       "      <td>Enigma</td>\n",
       "      <td>Logged In</td>\n",
       "      <td>Micah</td>\n",
       "      <td>M</td>\n",
       "      <td>80</td>\n",
       "      <td>Long</td>\n",
       "      <td>262.71302</td>\n",
       "      <td>free</td>\n",
       "      <td>Boston-Cambridge-Newton, MA-NH</td>\n",
       "      <td>PUT</td>\n",
       "      <td>NextSong</td>\n",
       "      <td>1.538332e+12</td>\n",
       "      <td>8</td>\n",
       "      <td>Knocking On Forbidden Doors</td>\n",
       "      <td>200</td>\n",
       "      <td>1538352416000</td>\n",
       "      <td>\"Mozilla/5.0 (Windows NT 6.1; WOW64) AppleWebK...</td>\n",
       "      <td>9</td>\n",
       "    </tr>\n",
       "    <tr>\n",
       "      <th>4</th>\n",
       "      <td>Daft Punk</td>\n",
       "      <td>Logged In</td>\n",
       "      <td>Colin</td>\n",
       "      <td>M</td>\n",
       "      <td>52</td>\n",
       "      <td>Freeman</td>\n",
       "      <td>223.60771</td>\n",
       "      <td>paid</td>\n",
       "      <td>Bakersfield, CA</td>\n",
       "      <td>PUT</td>\n",
       "      <td>NextSong</td>\n",
       "      <td>1.538173e+12</td>\n",
       "      <td>29</td>\n",
       "      <td>Harder Better Faster Stronger</td>\n",
       "      <td>200</td>\n",
       "      <td>1538352676000</td>\n",
       "      <td>Mozilla/5.0 (Windows NT 6.1; WOW64; rv:31.0) G...</td>\n",
       "      <td>30</td>\n",
       "    </tr>\n",
       "  </tbody>\n",
       "</table>\n",
       "</div>"
      ],
      "text/plain": [
       "             artist       auth firstName gender  itemInSession lastName  \\\n",
       "0    Martha Tilston  Logged In     Colin      M             50  Freeman   \n",
       "1  Five Iron Frenzy  Logged In     Micah      M             79     Long   \n",
       "2      Adam Lambert  Logged In     Colin      M             51  Freeman   \n",
       "3            Enigma  Logged In     Micah      M             80     Long   \n",
       "4         Daft Punk  Logged In     Colin      M             52  Freeman   \n",
       "\n",
       "      length level                        location method      page  \\\n",
       "0  277.89016  paid                 Bakersfield, CA    PUT  NextSong   \n",
       "1  236.09424  free  Boston-Cambridge-Newton, MA-NH    PUT  NextSong   \n",
       "2  282.82730  paid                 Bakersfield, CA    PUT  NextSong   \n",
       "3  262.71302  free  Boston-Cambridge-Newton, MA-NH    PUT  NextSong   \n",
       "4  223.60771  paid                 Bakersfield, CA    PUT  NextSong   \n",
       "\n",
       "   registration  sessionId                           song  status  \\\n",
       "0  1.538173e+12         29                      Rockpools     200   \n",
       "1  1.538332e+12          8                         Canada     200   \n",
       "2  1.538173e+12         29              Time For Miracles     200   \n",
       "3  1.538332e+12          8    Knocking On Forbidden Doors     200   \n",
       "4  1.538173e+12         29  Harder Better Faster Stronger     200   \n",
       "\n",
       "              ts                                          userAgent userId  \n",
       "0  1538352117000  Mozilla/5.0 (Windows NT 6.1; WOW64; rv:31.0) G...     30  \n",
       "1  1538352180000  \"Mozilla/5.0 (Windows NT 6.1; WOW64) AppleWebK...      9  \n",
       "2  1538352394000  Mozilla/5.0 (Windows NT 6.1; WOW64; rv:31.0) G...     30  \n",
       "3  1538352416000  \"Mozilla/5.0 (Windows NT 6.1; WOW64) AppleWebK...      9  \n",
       "4  1538352676000  Mozilla/5.0 (Windows NT 6.1; WOW64; rv:31.0) G...     30  "
      ]
     },
     "execution_count": 7,
     "metadata": {},
     "output_type": "execute_result"
    }
   ],
   "source": [
    "# Converted the spark dataframe through pandas\n",
    "dfp = df.toPandas()\n",
    "dfp.head()"
   ]
  },
  {
   "cell_type": "code",
   "execution_count": 8,
   "metadata": {},
   "outputs": [
    {
     "data": {
      "text/plain": [
       "artist           58392\n",
       "auth                 0\n",
       "firstName         8346\n",
       "gender            8346\n",
       "itemInSession        0\n",
       "lastName          8346\n",
       "length           58392\n",
       "level                0\n",
       "location          8346\n",
       "method               0\n",
       "page                 0\n",
       "registration      8346\n",
       "sessionId            0\n",
       "song             58392\n",
       "status               0\n",
       "ts                   0\n",
       "userAgent         8346\n",
       "userId               0\n",
       "dtype: int64"
      ]
     },
     "execution_count": 8,
     "metadata": {},
     "output_type": "execute_result"
    }
   ],
   "source": [
    "#check missing values - userId, sessionId does not have any missing values\n",
    "dfp.isnull().sum()"
   ]
  },
  {
   "cell_type": "code",
   "execution_count": 9,
   "metadata": {},
   "outputs": [
    {
     "data": {
      "text/plain": [
       "artist            object\n",
       "auth              object\n",
       "firstName         object\n",
       "gender            object\n",
       "itemInSession      int64\n",
       "lastName          object\n",
       "length           float64\n",
       "level             object\n",
       "location          object\n",
       "method            object\n",
       "page              object\n",
       "registration     float64\n",
       "sessionId          int64\n",
       "song              object\n",
       "status             int64\n",
       "ts                 int64\n",
       "userAgent         object\n",
       "userId            object\n",
       "dtype: object"
      ]
     },
     "execution_count": 9,
     "metadata": {},
     "output_type": "execute_result"
    }
   ],
   "source": [
    "#display datatypes\n",
    "dfp.dtypes"
   ]
  },
  {
   "cell_type": "code",
   "execution_count": 10,
   "metadata": {},
   "outputs": [
    {
     "data": {
      "text/plain": [
       "(array(['Martha Tilston', 'Five Iron Frenzy', 'Adam Lambert', ...,\n",
       "        'PROFANE OMEN', 'Gabriel Romero', '28 Days'], dtype=object),\n",
       " array(['Logged In', 'Logged Out', 'Cancelled', 'Guest'], dtype=object),\n",
       " array(['Colin', 'Micah', 'Ashlynn', 'Alexi', None, 'Warren', 'Alex',\n",
       "        'Ainsley', 'Zyonna', 'Faigy', 'Madison', 'Grant', 'Anika',\n",
       "        'Isobella', 'Payton', 'Christian', 'Teagan', 'Kael', 'Daelin',\n",
       "        'Giovanni', 'Jaleel', 'Panav', 'Carly', 'Elizabeth', 'Riley',\n",
       "        'Deegan', 'Ethan', 'Molly', 'Lucero', 'Bryson', 'Nicole', 'Kaylenn',\n",
       "        'Joseph', 'Oliver', 'Annabella', 'Ellen', 'Madelyn', 'Sawyer',\n",
       "        'Chase', 'Spencer', 'Sebastian', 'Dillyn', 'Lina', 'Calvin',\n",
       "        'Erick', 'Autumn', 'Miracle', 'Kaleb', 'Chayse', 'Parker',\n",
       "        'Adelaida', 'Lily', 'Sadie', 'Aurora', 'Freedom', 'Genesis',\n",
       "        'William', 'Davis', 'Nikolas', 'Peyton', 'Nithya', 'Adriel',\n",
       "        'Brayden', 'Jayden', 'Alexander', 'Alexandria', 'Destiny', 'Nathan',\n",
       "        'Jeffery', 'Sophia', 'Brisa', 'Rachel', 'Kayla', 'Jaxon', 'Maddox',\n",
       "        'Diego', 'Titus', 'Jada', 'Emma', 'Christan', 'Isabella', 'Garrett',\n",
       "        'Piper', 'Justin', 'Amberlynn', 'Zoey', 'Caleb', 'Makayla', 'Logan',\n",
       "        'Lorelei', 'Alyssa', 'Sean', 'Kaysie', 'Zoe', 'Karter', 'Jadyn',\n",
       "        'Jordan', 'Samuel', 'Evan', 'Ryleigh', 'Jayleen', 'Casey', 'Kaden',\n",
       "        'Brycen', 'Natalee', 'Connor', 'Gregory', 'Anna', 'Azrael',\n",
       "        'Michael', 'Saul', 'Jaden', 'Gilbert', 'Christina', 'Greysen',\n",
       "        'Wesley', 'Mason', 'Liam', 'Evelyn', 'Jarrod', 'Oscar', 'Jonah',\n",
       "        'Kimberly', 'Chloe', 'Margot', 'Mishael', 'Jaderion', 'Ava',\n",
       "        'Morgan', 'Camila', 'Emeli', 'Ramon', 'Andrew', 'Bianca', 'Landon',\n",
       "        'Troy', 'Mahi', 'Delaney', 'London', 'Cason', 'Tina', 'Cali',\n",
       "        'Emily', 'Daniel', 'Jonathon', 'Leyla', 'Angel', 'Darianna',\n",
       "        'Gracie', 'Nevaeh', 'Bryanna', 'Rodrigo', 'Rayden', 'James',\n",
       "        'Emmanuel', 'Conley', 'Dominic', 'Katiana', 'Reece', 'Keegan',\n",
       "        'Charles', 'Brooke', 'Liliana', 'Adriana', 'Isaiah', 'Saulo',\n",
       "        'Benjamin', 'Elias', 'Charlotte', 'Malia', 'Javiel', 'Aron',\n",
       "        'Antonina', 'Alyssia', 'Joshua', 'Emilia', 'Jade', 'Lauren',\n",
       "        'Lindyn', 'Carter', 'Lucas', 'Gabriella', 'Clayton', 'Adrian',\n",
       "        'Isaac', 'Maleah', 'Antonio', 'Noah', 'Quentin', 'Grace'], dtype=object),\n",
       " array(['Freeman', 'Long', 'Williams', 'Warren', None, 'Miller', 'Hogan',\n",
       "        'Farley', 'Bird', 'Howe', 'Morales', 'Flores', 'Osborne', 'Wright',\n",
       "        'Campbell', 'Robinson', 'Roberts', 'Baker', 'Turner', 'Garcia',\n",
       "        'Maldonado', 'Myers', 'Weiss', 'Washington', 'Taylor', 'Johnson',\n",
       "        'Raymond', 'Harrison', 'Reed', 'Roberson', 'Beck', 'Jenkins',\n",
       "        'Phillips', 'Gilbert', 'Knapp', 'Romero', 'Henson', 'Larson',\n",
       "        'Ross', 'Gonzalez', 'Wang', 'Richardson', 'Francis', 'Marshall',\n",
       "        'Brooks', 'Martin', 'Ho', 'Thompson', 'Keller', 'Rodriguez',\n",
       "        'Barnett', 'Jones', 'Humphrey', 'Aguilar', 'Smith', 'Olsen',\n",
       "        'Stewart', 'Colon', 'Mendoza', 'Thomas', 'Mills', 'Herring',\n",
       "        'Mitchell', 'Wheeler', 'Perry', 'Murray', 'Bailey', 'Reilly',\n",
       "        'Rivas', 'Mckee', 'Medina', 'Key', 'Barnes', 'Atkinson', 'Lee',\n",
       "        'Hopkins', 'Evans', 'Nielsen', 'Schmidt', 'Patterson', 'Olson',\n",
       "        'Nelson', 'Pena', 'Silva', 'Johnston', 'Mercer', 'Vega', 'Patel',\n",
       "        'Mathews', 'Rose', 'Lopez', 'Hunt', 'Wood', 'Spencer', 'Rogers',\n",
       "        'Ramirez', 'Nguyen', 'Bradley', 'Charles', 'Perez', 'Hicks',\n",
       "        'Randall', 'Fernandez', 'Todd', 'Carrillo', 'Jackson', 'Thornton',\n",
       "        'Hart', 'Brown', 'Fleming', 'Harper', 'Green', 'Ellis', 'Norton',\n",
       "        'Walker', 'Gates', 'Ortega', 'Adams', 'Clark', 'Bennett', 'Ponce',\n",
       "        'Calderon', 'Martinez', 'Poole', 'Wolf', 'Cabrera', 'Mathis',\n",
       "        'Diaz', 'Walton', 'Ball', 'Cook', 'Fisher', 'Marks', 'Santos',\n",
       "        'Jacobs', 'Carpenter', 'Chang', 'Stone', 'Carey', 'Mann', 'Torres',\n",
       "        'Daniels', 'Moore', 'Rivera', 'Pearson', 'Owen', 'Dickerson',\n",
       "        'Mayer', 'Gomez', 'Floyd', 'Burgess', 'Mata', 'Love', 'Frazier',\n",
       "        'Hill', 'Mora', 'Gardner', 'Kennedy', 'White', 'House', 'Deleon',\n",
       "        'Allen', 'Boone', 'Warner', 'Tanner', 'Franklin', 'Alexander',\n",
       "        'Pierce', 'Mcintosh', 'Watson', 'Whitehead', 'Sanchez', 'Fischer',\n",
       "        'Carter'], dtype=object),\n",
       " array(['paid', 'free'], dtype=object),\n",
       " array(['Bakersfield, CA', 'Boston-Cambridge-Newton, MA-NH',\n",
       "        'Tallahassee, FL', 'Spokane-Spokane Valley, WA', None,\n",
       "        'Baltimore-Columbia-Towson, MD', 'Denver-Aurora-Lakewood, CO',\n",
       "        'McAllen-Edinburg-Mission, TX', 'Columbus, GA-AL',\n",
       "        'Phoenix-Mesa-Scottsdale, AZ',\n",
       "        'Tampa-St. Petersburg-Clearwater, FL',\n",
       "        'New York-Newark-Jersey City, NY-NJ-PA',\n",
       "        'Philadelphia-Camden-Wilmington, PA-NJ-DE-MD',\n",
       "        'Atlanta-Sandy Springs-Roswell, GA',\n",
       "        'Los Angeles-Long Beach-Anaheim, CA', 'Quincy, IL-MO',\n",
       "        'New Philadelphia-Dover, OH', 'Kingsport-Bristol-Bristol, TN-VA',\n",
       "        'Myrtle Beach-Conway-North Myrtle Beach, SC-NC', 'Boulder, CO',\n",
       "        'Morgantown, WV', 'Minneapolis-St. Paul-Bloomington, MN-WI',\n",
       "        'Oklahoma City, OK', 'Hartford-West Hartford-East Hartford, CT',\n",
       "        'Lexington-Fayette, KY',\n",
       "        'Virginia Beach-Norfolk-Newport News, VA-NC',\n",
       "        'Louisville/Jefferson County, KY-IN',\n",
       "        'Houston-The Woodlands-Sugar Land, TX', 'Vineland-Bridgeton, NJ',\n",
       "        'Price, UT', 'Allentown-Bethlehem-Easton, PA-NJ',\n",
       "        'San Antonio-New Braunfels, TX', 'Omaha-Council Bluffs, NE-IA',\n",
       "        'Charlotte-Concord-Gastonia, NC-SC', 'Concord, NH', 'Jackson, MS',\n",
       "        'Danville, VA', 'Pittsburgh, PA', 'Selma, AL', 'Gainesville, FL',\n",
       "        'San Francisco-Oakland-Hayward, CA',\n",
       "        'Washington-Arlington-Alexandria, DC-VA-MD-WV',\n",
       "        'Dallas-Fort Worth-Arlington, TX',\n",
       "        'Sacramento--Roseville--Arden-Arcade, CA',\n",
       "        'Chicago-Naperville-Elgin, IL-IN-WI', 'Flint, MI',\n",
       "        'Oxnard-Thousand Oaks-Ventura, CA', 'Kansas City, MO-KS',\n",
       "        'Buffalo-Cheektowaga-Niagara Falls, NY',\n",
       "        'Indianapolis-Carmel-Anderson, IN', 'Atlantic City-Hammonton, NJ',\n",
       "        'Miami-Fort Lauderdale-West Palm Beach, FL',\n",
       "        'Las Vegas-Henderson-Paradise, NV', 'Bozeman, MT',\n",
       "        'Manchester-Nashua, NH', 'Albany-Schenectady-Troy, NY',\n",
       "        'Jacksonville, FL', 'Seattle-Tacoma-Bellevue, WA',\n",
       "        'Milwaukee-Waukesha-West Allis, WI', 'New Haven-Milford, CT',\n",
       "        'Winston-Salem, NC', 'Napa, CA', 'Dubuque, IA', 'Troy, AL',\n",
       "        'Memphis, TN-MS-AR', 'Fairbanks, AK', 'Detroit-Warren-Dearborn, MI',\n",
       "        'Muncie, IN', 'Anchorage, AK', 'Bridgeport-Stamford-Norwalk, CT',\n",
       "        'Providence-Warwick, RI-MA', 'Austin-Round Rock, TX',\n",
       "        'Billings, MT', 'Pontiac, IL',\n",
       "        'Riverside-San Bernardino-Ontario, CA', 'St. Louis, MO-IL',\n",
       "        'Laurel, MS', 'Raleigh, NC', 'Montgomery, AL', 'Syracuse, NY',\n",
       "        'Dayton, OH', 'Cincinnati, OH-KY-IN', 'Alexandria, LA',\n",
       "        'Deltona-Daytona Beach-Ormond Beach, FL', 'Corpus Christi, TX',\n",
       "        'San Diego-Carlsbad, CA', 'Stockton-Lodi, CA',\n",
       "        'Truckee-Grass Valley, CA', 'Kankakee, IL', 'Duluth, MN-WI',\n",
       "        'Port St. Lucie, FL', 'Greensboro-High Point, NC',\n",
       "        'Scranton--Wilkes-Barre--Hazleton, PA', 'Monroe, LA', 'Albany, OR',\n",
       "        'North Wilkesboro, NC', 'Little Rock-North Little Rock-Conway, AR',\n",
       "        'Cleveland-Elyria, OH', 'Greenville-Anderson-Mauldin, SC',\n",
       "        'Santa Maria-Santa Barbara, CA', 'Birmingham-Hoover, AL',\n",
       "        'Hagerstown-Martinsburg, MD-WV', 'Orlando-Kissimmee-Sanford, FL',\n",
       "        'Logan, UT-ID', 'Jacksonville, NC', 'London, KY', 'Sterling, IL',\n",
       "        'Salinas, CA', 'Portland-Vancouver-Hillsboro, OR-WA',\n",
       "        'Colorado Springs, CO', 'Ionia, MI', 'Cookeville, TN', 'Wilson, NC',\n",
       "        'San Jose-Sunnyvale-Santa Clara, CA', 'Roanoke, VA'], dtype=object))"
      ]
     },
     "execution_count": 10,
     "metadata": {},
     "output_type": "execute_result"
    }
   ],
   "source": [
    "# Explore the values of some categoric columns\n",
    "dfp.artist.unique(), dfp.auth.unique(), dfp.firstName.unique(), dfp.lastName.unique(), dfp.level.unique(), dfp.location.unique()"
   ]
  },
  {
   "cell_type": "code",
   "execution_count": 11,
   "metadata": {},
   "outputs": [
    {
     "data": {
      "text/plain": [
       "(array(['paid', 'free'], dtype=object),\n",
       " array(['PUT', 'GET'], dtype=object),\n",
       " array(['NextSong', 'Add to Playlist', 'Roll Advert', 'Thumbs Up',\n",
       "        'Downgrade', 'Thumbs Down', 'Home', 'Logout', 'Help', 'Login',\n",
       "        'Upgrade', 'Add Friend', 'About', 'Settings', 'Submit Upgrade',\n",
       "        'Submit Downgrade', 'Error', 'Save Settings', 'Cancel',\n",
       "        'Cancellation Confirmation', 'Register', 'Submit Registration'], dtype=object),\n",
       " array([200, 307, 404]),\n",
       " array(['M', 'F', None], dtype=object),\n",
       " array(['Logged In', 'Logged Out', 'Cancelled', 'Guest'], dtype=object))"
      ]
     },
     "execution_count": 11,
     "metadata": {},
     "output_type": "execute_result"
    }
   ],
   "source": [
    "# Explore the values of some categoric columns\n",
    "dfp.level.unique(), dfp.method.unique(), dfp.page.unique(), dfp.status.unique(), dfp.gender.unique(), dfp.auth.unique()"
   ]
  },
  {
   "cell_type": "code",
   "execution_count": 12,
   "metadata": {},
   "outputs": [
    {
     "name": "stdout",
     "output_type": "stream",
     "text": [
      "<class 'pandas.core.frame.DataFrame'>\n",
      "RangeIndex: 286500 entries, 0 to 286499\n",
      "Data columns (total 18 columns):\n",
      "artist           228108 non-null object\n",
      "auth             286500 non-null object\n",
      "firstName        278154 non-null object\n",
      "gender           278154 non-null object\n",
      "itemInSession    286500 non-null int64\n",
      "lastName         278154 non-null object\n",
      "length           228108 non-null float64\n",
      "level            286500 non-null object\n",
      "location         278154 non-null object\n",
      "method           286500 non-null object\n",
      "page             286500 non-null object\n",
      "registration     278154 non-null float64\n",
      "sessionId        286500 non-null int64\n",
      "song             228108 non-null object\n",
      "status           286500 non-null int64\n",
      "ts               286500 non-null int64\n",
      "userAgent        278154 non-null object\n",
      "userId           286500 non-null object\n",
      "dtypes: float64(2), int64(4), object(12)\n",
      "memory usage: 39.3+ MB\n"
     ]
    }
   ],
   "source": [
    "dfp.info()"
   ]
  },
  {
   "cell_type": "code",
   "execution_count": 13,
   "metadata": {},
   "outputs": [
    {
     "data": {
      "text/plain": [
       "(8346, 18)"
      ]
     },
     "execution_count": 13,
     "metadata": {},
     "output_type": "execute_result"
    }
   ],
   "source": [
    "dfp[dfp.userId == ''].shape"
   ]
  },
  {
   "cell_type": "code",
   "execution_count": 14,
   "metadata": {},
   "outputs": [
    {
     "data": {
      "text/plain": [
       "8346"
      ]
     },
     "execution_count": 14,
     "metadata": {},
     "output_type": "execute_result"
    }
   ],
   "source": [
    "dfp[dfp.userId == '']['userId'].count()"
   ]
  },
  {
   "cell_type": "code",
   "execution_count": 15,
   "metadata": {},
   "outputs": [
    {
     "data": {
      "text/plain": [
       "0"
      ]
     },
     "execution_count": 15,
     "metadata": {},
     "output_type": "execute_result"
    }
   ],
   "source": [
    "# Using Spark commands\n",
    "df.filter(df.sessionId == '').count()"
   ]
  },
  {
   "cell_type": "code",
   "execution_count": 16,
   "metadata": {},
   "outputs": [
    {
     "data": {
      "text/plain": [
       "0"
      ]
     },
     "execution_count": 16,
     "metadata": {},
     "output_type": "execute_result"
    }
   ],
   "source": [
    "# drop the missing user id\n",
    "df = df.filter(df.userId != '')\n",
    "# Check - this  SHOULD be 0\n",
    "df.filter(df.userId == '').count()"
   ]
  },
  {
   "cell_type": "markdown",
   "metadata": {},
   "source": [
    "# Exploratory Data Analysis\n",
    "When you're working with the full dataset, perform EDA by loading a small subset of the data and doing basic manipulations within Spark. In this workspace, you are already provided a small subset of data you can explore."
   ]
  },
  {
   "cell_type": "code",
   "execution_count": 17,
   "metadata": {},
   "outputs": [
    {
     "name": "stdout",
     "output_type": "stream",
     "text": [
      "the number of users are 225, the nubmer of pages are 19, the number of sessions are 2312\n"
     ]
    }
   ],
   "source": [
    "# Let's know the number of users in this dataset and the number of pages and sessions\n",
    "# redifine the pandas dataframe\n",
    "dfp = df.toPandas()\n",
    "\n",
    "# Let's know the number of users in this dataset and the number of pages and sessions\n",
    "print('the number of users are {}, the nubmer of pages are {}, the number of sessions are {}'.format(dfp['userId'].nunique(), dfp['page'].nunique(), dfp['sessionId'].nunique()))"
   ]
  },
  {
   "cell_type": "markdown",
   "metadata": {},
   "source": [
    "\n",
    "### Define Churn\n",
    "\n",
    "Once you've done some preliminary analysis, create a column `Churn` to use as the label for your model. I suggest using the `Cancellation Confirmation` events to define your churn, which happen for both paid and free users. As a bonus task, you can also look into the `Downgrade` events."
   ]
  },
  {
   "cell_type": "code",
   "execution_count": 18,
   "metadata": {},
   "outputs": [
    {
     "name": "stdout",
     "output_type": "stream",
     "text": [
      "+--------------------+\n",
      "|                page|\n",
      "+--------------------+\n",
      "|              Cancel|\n",
      "|    Submit Downgrade|\n",
      "|         Thumbs Down|\n",
      "|                Home|\n",
      "|           Downgrade|\n",
      "|         Roll Advert|\n",
      "|              Logout|\n",
      "|       Save Settings|\n",
      "|Cancellation Conf...|\n",
      "|               About|\n",
      "|            Settings|\n",
      "|     Add to Playlist|\n",
      "|          Add Friend|\n",
      "|            NextSong|\n",
      "|           Thumbs Up|\n",
      "|                Help|\n",
      "|             Upgrade|\n",
      "|               Error|\n",
      "|      Submit Upgrade|\n",
      "+--------------------+\n",
      "\n"
     ]
    }
   ],
   "source": [
    "# Before defining churn - let us see what values exist in page feature\n",
    "\n",
    "df.select(\"page\").dropDuplicates().show()"
   ]
  },
  {
   "cell_type": "code",
   "execution_count": 19,
   "metadata": {},
   "outputs": [],
   "source": [
    "# Churn is a label for the user with Cancellation Confirmation\n",
    "flag_cancellation_event = udf(lambda x: 1 if x == \"Cancellation Confirmation\" else 0, IntegerType())"
   ]
  },
  {
   "cell_type": "code",
   "execution_count": 20,
   "metadata": {},
   "outputs": [],
   "source": [
    "# apply to the dataframe\n",
    "df = df.withColumn(\"churn\", flag_cancellation_event(\"page\"))\n",
    "#Define window bounds\n",
    "windowval = Window.partitionBy(\"userId\").rangeBetween(Window.unboundedPreceding, Window.unboundedFollowing)\n",
    "# Applying the window\n",
    "df = df.withColumn(\"churn\", Fsum(\"churn\").over(windowval))"
   ]
  },
  {
   "cell_type": "code",
   "execution_count": 21,
   "metadata": {},
   "outputs": [
    {
     "data": {
      "text/plain": [
       "[Row(artist=\"Christopher O'Riley\", auth='Logged In', firstName='Mason', gender='M', itemInSession=0, lastName='Hart', length=337.91955, level='free', location='Corpus Christi, TX', method='PUT', page='NextSong', registration=1533157139000, sessionId=174, song='paranoid android', status=200, ts=1539317144000, userAgent='\"Mozilla/5.0 (Macintosh; Intel Mac OS X 10_9_4) AppleWebKit/537.36 (KHTML, like Gecko) Chrome/36.0.1985.125 Safari/537.36\"', userId='125', churn=1)]"
      ]
     },
     "execution_count": 21,
     "metadata": {},
     "output_type": "execute_result"
    }
   ],
   "source": [
    "#check the churn record\n",
    "df.filter(df.churn==1).take(1)"
   ]
  },
  {
   "cell_type": "code",
   "execution_count": 22,
   "metadata": {},
   "outputs": [
    {
     "data": {
      "text/plain": [
       "[Row(artist='Sleeping With Sirens', auth='Logged In', firstName='Darianna', gender='F', itemInSession=0, lastName='Carpenter', length=202.97098, level='free', location='Bridgeport-Stamford-Norwalk, CT', method='PUT', page='NextSong', registration=1538016340000, sessionId=31, song='Captain Tyin Knots VS Mr Walkway (No Way)', status=200, ts=1539003534000, userAgent='\"Mozilla/5.0 (iPhone; CPU iPhone OS 7_1_2 like Mac OS X) AppleWebKit/537.51.2 (KHTML, like Gecko) Version/7.0 Mobile/11D257 Safari/9537.53\"', userId='100010', churn=0),\n",
       " Row(artist='Francesca Battistelli', auth='Logged In', firstName='Darianna', gender='F', itemInSession=1, lastName='Carpenter', length=196.54485, level='free', location='Bridgeport-Stamford-Norwalk, CT', method='PUT', page='NextSong', registration=1538016340000, sessionId=31, song='Beautiful_ Beautiful (Album)', status=200, ts=1539003736000, userAgent='\"Mozilla/5.0 (iPhone; CPU iPhone OS 7_1_2 like Mac OS X) AppleWebKit/537.51.2 (KHTML, like Gecko) Version/7.0 Mobile/11D257 Safari/9537.53\"', userId='100010', churn=0),\n",
       " Row(artist='Brutha', auth='Logged In', firstName='Darianna', gender='F', itemInSession=2, lastName='Carpenter', length=263.13098, level='free', location='Bridgeport-Stamford-Norwalk, CT', method='PUT', page='NextSong', registration=1538016340000, sessionId=31, song=\"She's Gone\", status=200, ts=1539003932000, userAgent='\"Mozilla/5.0 (iPhone; CPU iPhone OS 7_1_2 like Mac OS X) AppleWebKit/537.51.2 (KHTML, like Gecko) Version/7.0 Mobile/11D257 Safari/9537.53\"', userId='100010', churn=0)]"
      ]
     },
     "execution_count": 22,
     "metadata": {},
     "output_type": "execute_result"
    }
   ],
   "source": [
    "#check the records of spark format\n",
    "df.take(3)"
   ]
  },
  {
   "cell_type": "code",
   "execution_count": 23,
   "metadata": {},
   "outputs": [],
   "source": [
    "# Again define pandas df for better view\n",
    "dfp = df.toPandas()"
   ]
  },
  {
   "cell_type": "code",
   "execution_count": 24,
   "metadata": {},
   "outputs": [
    {
     "data": {
      "text/html": [
       "<div>\n",
       "<style scoped>\n",
       "    .dataframe tbody tr th:only-of-type {\n",
       "        vertical-align: middle;\n",
       "    }\n",
       "\n",
       "    .dataframe tbody tr th {\n",
       "        vertical-align: top;\n",
       "    }\n",
       "\n",
       "    .dataframe thead th {\n",
       "        text-align: right;\n",
       "    }\n",
       "</style>\n",
       "<table border=\"1\" class=\"dataframe\">\n",
       "  <thead>\n",
       "    <tr style=\"text-align: right;\">\n",
       "      <th></th>\n",
       "      <th>artist</th>\n",
       "      <th>auth</th>\n",
       "      <th>firstName</th>\n",
       "      <th>gender</th>\n",
       "      <th>itemInSession</th>\n",
       "      <th>lastName</th>\n",
       "      <th>length</th>\n",
       "      <th>level</th>\n",
       "      <th>location</th>\n",
       "      <th>method</th>\n",
       "      <th>page</th>\n",
       "      <th>registration</th>\n",
       "      <th>sessionId</th>\n",
       "      <th>song</th>\n",
       "      <th>status</th>\n",
       "      <th>ts</th>\n",
       "      <th>userAgent</th>\n",
       "      <th>userId</th>\n",
       "      <th>churn</th>\n",
       "    </tr>\n",
       "  </thead>\n",
       "  <tbody>\n",
       "    <tr>\n",
       "      <th>0</th>\n",
       "      <td>Sleeping With Sirens</td>\n",
       "      <td>Logged In</td>\n",
       "      <td>Darianna</td>\n",
       "      <td>F</td>\n",
       "      <td>0</td>\n",
       "      <td>Carpenter</td>\n",
       "      <td>202.97098</td>\n",
       "      <td>free</td>\n",
       "      <td>Bridgeport-Stamford-Norwalk, CT</td>\n",
       "      <td>PUT</td>\n",
       "      <td>NextSong</td>\n",
       "      <td>1538016340000</td>\n",
       "      <td>31</td>\n",
       "      <td>Captain Tyin Knots VS Mr Walkway (No Way)</td>\n",
       "      <td>200</td>\n",
       "      <td>1539003534000</td>\n",
       "      <td>\"Mozilla/5.0 (iPhone; CPU iPhone OS 7_1_2 like...</td>\n",
       "      <td>100010</td>\n",
       "      <td>0</td>\n",
       "    </tr>\n",
       "    <tr>\n",
       "      <th>1</th>\n",
       "      <td>Francesca Battistelli</td>\n",
       "      <td>Logged In</td>\n",
       "      <td>Darianna</td>\n",
       "      <td>F</td>\n",
       "      <td>1</td>\n",
       "      <td>Carpenter</td>\n",
       "      <td>196.54485</td>\n",
       "      <td>free</td>\n",
       "      <td>Bridgeport-Stamford-Norwalk, CT</td>\n",
       "      <td>PUT</td>\n",
       "      <td>NextSong</td>\n",
       "      <td>1538016340000</td>\n",
       "      <td>31</td>\n",
       "      <td>Beautiful_ Beautiful (Album)</td>\n",
       "      <td>200</td>\n",
       "      <td>1539003736000</td>\n",
       "      <td>\"Mozilla/5.0 (iPhone; CPU iPhone OS 7_1_2 like...</td>\n",
       "      <td>100010</td>\n",
       "      <td>0</td>\n",
       "    </tr>\n",
       "    <tr>\n",
       "      <th>2</th>\n",
       "      <td>Brutha</td>\n",
       "      <td>Logged In</td>\n",
       "      <td>Darianna</td>\n",
       "      <td>F</td>\n",
       "      <td>2</td>\n",
       "      <td>Carpenter</td>\n",
       "      <td>263.13098</td>\n",
       "      <td>free</td>\n",
       "      <td>Bridgeport-Stamford-Norwalk, CT</td>\n",
       "      <td>PUT</td>\n",
       "      <td>NextSong</td>\n",
       "      <td>1538016340000</td>\n",
       "      <td>31</td>\n",
       "      <td>She's Gone</td>\n",
       "      <td>200</td>\n",
       "      <td>1539003932000</td>\n",
       "      <td>\"Mozilla/5.0 (iPhone; CPU iPhone OS 7_1_2 like...</td>\n",
       "      <td>100010</td>\n",
       "      <td>0</td>\n",
       "    </tr>\n",
       "  </tbody>\n",
       "</table>\n",
       "</div>"
      ],
      "text/plain": [
       "                  artist       auth firstName gender  itemInSession  \\\n",
       "0   Sleeping With Sirens  Logged In  Darianna      F              0   \n",
       "1  Francesca Battistelli  Logged In  Darianna      F              1   \n",
       "2                 Brutha  Logged In  Darianna      F              2   \n",
       "\n",
       "    lastName     length level                         location method  \\\n",
       "0  Carpenter  202.97098  free  Bridgeport-Stamford-Norwalk, CT    PUT   \n",
       "1  Carpenter  196.54485  free  Bridgeport-Stamford-Norwalk, CT    PUT   \n",
       "2  Carpenter  263.13098  free  Bridgeport-Stamford-Norwalk, CT    PUT   \n",
       "\n",
       "       page   registration  sessionId  \\\n",
       "0  NextSong  1538016340000         31   \n",
       "1  NextSong  1538016340000         31   \n",
       "2  NextSong  1538016340000         31   \n",
       "\n",
       "                                        song  status             ts  \\\n",
       "0  Captain Tyin Knots VS Mr Walkway (No Way)     200  1539003534000   \n",
       "1               Beautiful_ Beautiful (Album)     200  1539003736000   \n",
       "2                                 She's Gone     200  1539003932000   \n",
       "\n",
       "                                           userAgent  userId  churn  \n",
       "0  \"Mozilla/5.0 (iPhone; CPU iPhone OS 7_1_2 like...  100010      0  \n",
       "1  \"Mozilla/5.0 (iPhone; CPU iPhone OS 7_1_2 like...  100010      0  \n",
       "2  \"Mozilla/5.0 (iPhone; CPU iPhone OS 7_1_2 like...  100010      0  "
      ]
     },
     "execution_count": 24,
     "metadata": {},
     "output_type": "execute_result"
    }
   ],
   "source": [
    "dfp.head(3)"
   ]
  },
  {
   "cell_type": "code",
   "execution_count": 25,
   "metadata": {},
   "outputs": [
    {
     "data": {
      "text/plain": [
       "PUT    257818\n",
       "GET     20336\n",
       "Name: method, dtype: int64"
      ]
     },
     "execution_count": 25,
     "metadata": {},
     "output_type": "execute_result"
    }
   ],
   "source": [
    "dfp['method'].value_counts()"
   ]
  },
  {
   "cell_type": "markdown",
   "metadata": {},
   "source": [
    "### Explore Data\n",
    "Once you've defined churn, perform some exploratory data analysis to observe the behavior for users who stayed vs users who churned. You can start by exploring aggregates on these two groups of users, observing how much of a specific action they experienced per a certain time unit or number of songs played."
   ]
  },
  {
   "cell_type": "code",
   "execution_count": 26,
   "metadata": {},
   "outputs": [
    {
     "data": {
      "text/plain": [
       "churn\n",
       "0    173\n",
       "1     52\n",
       "Name: userId, dtype: int64"
      ]
     },
     "execution_count": 26,
     "metadata": {},
     "output_type": "execute_result"
    }
   ],
   "source": [
    "# behavior for users who stayed vs users who churned\n",
    "dfp.drop_duplicates(subset='userId').groupby(['churn'])['userId'].count()"
   ]
  },
  {
   "cell_type": "code",
   "execution_count": 27,
   "metadata": {},
   "outputs": [
    {
     "name": "stdout",
     "output_type": "stream",
     "text": [
      "+-----+-----+\n",
      "|churn|count|\n",
      "+-----+-----+\n",
      "|    0|  173|\n",
      "|    1|   52|\n",
      "+-----+-----+\n",
      "\n"
     ]
    }
   ],
   "source": [
    "#Lets use spark command\n",
    "df.dropDuplicates(['userId']).groupby(['churn']).count().show()"
   ]
  },
  {
   "cell_type": "code",
   "execution_count": 28,
   "metadata": {},
   "outputs": [
    {
     "name": "stdout",
     "output_type": "stream",
     "text": [
      "+-----+-----+-----+\n",
      "|churn|level|count|\n",
      "+-----+-----+-----+\n",
      "|    1| paid|   36|\n",
      "|    1| free|   46|\n",
      "|    0| free|  149|\n",
      "|    0| paid|  129|\n",
      "+-----+-----+-----+\n",
      "\n"
     ]
    }
   ],
   "source": [
    "# Exploring user status by paid status level - using Spark\n",
    "df.dropDuplicates(['userId', 'level']).groupby(['churn', 'level']).count().show()"
   ]
  },
  {
   "cell_type": "code",
   "execution_count": 29,
   "metadata": {},
   "outputs": [
    {
     "name": "stdout",
     "output_type": "stream",
     "text": [
      "+-----+------+-----+\n",
      "|churn|gender|count|\n",
      "+-----+------+-----+\n",
      "|    0|     F|   84|\n",
      "|    1|     M|   32|\n",
      "|    1|     F|   20|\n",
      "|    0|     M|   89|\n",
      "+-----+------+-----+\n",
      "\n"
     ]
    }
   ],
   "source": [
    "# Exploring user status by gender - using Spark\n",
    "df.dropDuplicates(['userId', 'gender']).groupby(['churn', 'gender']).count().show()"
   ]
  },
  {
   "cell_type": "code",
   "execution_count": 30,
   "metadata": {},
   "outputs": [],
   "source": [
    "gender_df = df.dropDuplicates(['userId', 'gender']).groupby(['churn', 'gender']).count()\n",
    "gender_df = gender_df.toPandas()"
   ]
  },
  {
   "cell_type": "code",
   "execution_count": 31,
   "metadata": {},
   "outputs": [
    {
     "data": {
      "text/html": [
       "<div>\n",
       "<style scoped>\n",
       "    .dataframe tbody tr th:only-of-type {\n",
       "        vertical-align: middle;\n",
       "    }\n",
       "\n",
       "    .dataframe tbody tr th {\n",
       "        vertical-align: top;\n",
       "    }\n",
       "\n",
       "    .dataframe thead th {\n",
       "        text-align: right;\n",
       "    }\n",
       "</style>\n",
       "<table border=\"1\" class=\"dataframe\">\n",
       "  <thead>\n",
       "    <tr style=\"text-align: right;\">\n",
       "      <th></th>\n",
       "      <th>churn</th>\n",
       "      <th>gender</th>\n",
       "      <th>count</th>\n",
       "    </tr>\n",
       "  </thead>\n",
       "  <tbody>\n",
       "    <tr>\n",
       "      <th>0</th>\n",
       "      <td>0</td>\n",
       "      <td>F</td>\n",
       "      <td>84</td>\n",
       "    </tr>\n",
       "    <tr>\n",
       "      <th>1</th>\n",
       "      <td>1</td>\n",
       "      <td>M</td>\n",
       "      <td>32</td>\n",
       "    </tr>\n",
       "    <tr>\n",
       "      <th>2</th>\n",
       "      <td>1</td>\n",
       "      <td>F</td>\n",
       "      <td>20</td>\n",
       "    </tr>\n",
       "    <tr>\n",
       "      <th>3</th>\n",
       "      <td>0</td>\n",
       "      <td>M</td>\n",
       "      <td>89</td>\n",
       "    </tr>\n",
       "  </tbody>\n",
       "</table>\n",
       "</div>"
      ],
      "text/plain": [
       "   churn gender  count\n",
       "0      0      F     84\n",
       "1      1      M     32\n",
       "2      1      F     20\n",
       "3      0      M     89"
      ]
     },
     "execution_count": 31,
     "metadata": {},
     "output_type": "execute_result"
    }
   ],
   "source": [
    "gender_df.head()"
   ]
  },
  {
   "cell_type": "code",
   "execution_count": 32,
   "metadata": {},
   "outputs": [
    {
     "data": {
      "image/png": "[encoded data removed]",
      "text/plain": [
       "<matplotlib.figure.Figure at 0x7f930d5df940>"
      ]
     },
     "metadata": {
      "needs_background": "light"
     },
     "output_type": "display_data"
    }
   ],
   "source": [
    "plt.title(\"Distribution of feature_gender vs Target Churn\");\n",
    "sns.barplot(x=\"churn\", y=\"count\", hue='gender',data=gender_df);\n",
    "plt.show();"
   ]
  },
  {
   "cell_type": "code",
   "execution_count": 33,
   "metadata": {},
   "outputs": [
    {
     "name": "stdout",
     "output_type": "stream",
     "text": [
      "+-----+------+-----+\n",
      "|churn|status|count|\n",
      "+-----+------+-----+\n",
      "|    0|   307|  171|\n",
      "|    1|   307|   52|\n",
      "|    1|   404|   22|\n",
      "|    0|   200|  173|\n",
      "|    1|   200|   52|\n",
      "|    0|   404|   95|\n",
      "+-----+------+-----+\n",
      "\n"
     ]
    }
   ],
   "source": [
    "# Exploring user status by gender - using Spark\n",
    "df.dropDuplicates(['userId', 'status']).groupby(['churn', 'status']).count().show()"
   ]
  },
  {
   "cell_type": "code",
   "execution_count": 34,
   "metadata": {},
   "outputs": [],
   "source": [
    "user_status_df = df.dropDuplicates(['userId', 'status']).groupby(['churn', 'status']).count()\n",
    "user_status_df = user_status_df.toPandas()"
   ]
  },
  {
   "cell_type": "code",
   "execution_count": 35,
   "metadata": {},
   "outputs": [
    {
     "data": {
      "text/html": [
       "<div>\n",
       "<style scoped>\n",
       "    .dataframe tbody tr th:only-of-type {\n",
       "        vertical-align: middle;\n",
       "    }\n",
       "\n",
       "    .dataframe tbody tr th {\n",
       "        vertical-align: top;\n",
       "    }\n",
       "\n",
       "    .dataframe thead th {\n",
       "        text-align: right;\n",
       "    }\n",
       "</style>\n",
       "<table border=\"1\" class=\"dataframe\">\n",
       "  <thead>\n",
       "    <tr style=\"text-align: right;\">\n",
       "      <th></th>\n",
       "      <th>churn</th>\n",
       "      <th>status</th>\n",
       "      <th>count</th>\n",
       "    </tr>\n",
       "  </thead>\n",
       "  <tbody>\n",
       "    <tr>\n",
       "      <th>0</th>\n",
       "      <td>0</td>\n",
       "      <td>307</td>\n",
       "      <td>171</td>\n",
       "    </tr>\n",
       "    <tr>\n",
       "      <th>1</th>\n",
       "      <td>1</td>\n",
       "      <td>307</td>\n",
       "      <td>52</td>\n",
       "    </tr>\n",
       "    <tr>\n",
       "      <th>2</th>\n",
       "      <td>1</td>\n",
       "      <td>404</td>\n",
       "      <td>22</td>\n",
       "    </tr>\n",
       "    <tr>\n",
       "      <th>3</th>\n",
       "      <td>0</td>\n",
       "      <td>200</td>\n",
       "      <td>173</td>\n",
       "    </tr>\n",
       "    <tr>\n",
       "      <th>4</th>\n",
       "      <td>1</td>\n",
       "      <td>200</td>\n",
       "      <td>52</td>\n",
       "    </tr>\n",
       "  </tbody>\n",
       "</table>\n",
       "</div>"
      ],
      "text/plain": [
       "   churn  status  count\n",
       "0      0     307    171\n",
       "1      1     307     52\n",
       "2      1     404     22\n",
       "3      0     200    173\n",
       "4      1     200     52"
      ]
     },
     "execution_count": 35,
     "metadata": {},
     "output_type": "execute_result"
    }
   ],
   "source": [
    "user_status_df.head()"
   ]
  },
  {
   "cell_type": "code",
   "execution_count": 36,
   "metadata": {},
   "outputs": [
    {
     "data": {
      "image/png": "[encoded data removed]",
      "text/plain": [
       "<matplotlib.figure.Figure at 0x7f930cc5c470>"
      ]
     },
     "metadata": {
      "needs_background": "light"
     },
     "output_type": "display_data"
    }
   ],
   "source": [
    "plt.title(\"Distribution of feature_status vs Target Churn\");\n",
    "sns.barplot(x=\"churn\", y=\"count\", hue='status',data=user_status_df);\n",
    "plt.show();"
   ]
  },
  {
   "cell_type": "code",
   "execution_count": 37,
   "metadata": {},
   "outputs": [],
   "source": [
    "#number of songs played by both the groups\n",
    "df_songs = df.where(df.song !='null').groupby(['churn','userId']) \\\n",
    "    .agg(count(df.song).alias('SongsPlayed')).orderBy('churn').toPandas()"
   ]
  },
  {
   "cell_type": "code",
   "execution_count": 38,
   "metadata": {},
   "outputs": [
    {
     "data": {
      "text/html": [
       "<div>\n",
       "<style scoped>\n",
       "    .dataframe tbody tr th:only-of-type {\n",
       "        vertical-align: middle;\n",
       "    }\n",
       "\n",
       "    .dataframe tbody tr th {\n",
       "        vertical-align: top;\n",
       "    }\n",
       "\n",
       "    .dataframe thead th {\n",
       "        text-align: right;\n",
       "    }\n",
       "</style>\n",
       "<table border=\"1\" class=\"dataframe\">\n",
       "  <thead>\n",
       "    <tr style=\"text-align: right;\">\n",
       "      <th></th>\n",
       "      <th>churn</th>\n",
       "      <th>userId</th>\n",
       "      <th>SongsPlayed</th>\n",
       "    </tr>\n",
       "  </thead>\n",
       "  <tbody>\n",
       "    <tr>\n",
       "      <th>0</th>\n",
       "      <td>0</td>\n",
       "      <td>100010</td>\n",
       "      <td>275</td>\n",
       "    </tr>\n",
       "    <tr>\n",
       "      <th>1</th>\n",
       "      <td>0</td>\n",
       "      <td>200002</td>\n",
       "      <td>387</td>\n",
       "    </tr>\n",
       "    <tr>\n",
       "      <th>2</th>\n",
       "      <td>0</td>\n",
       "      <td>124</td>\n",
       "      <td>4079</td>\n",
       "    </tr>\n",
       "    <tr>\n",
       "      <th>3</th>\n",
       "      <td>0</td>\n",
       "      <td>7</td>\n",
       "      <td>150</td>\n",
       "    </tr>\n",
       "    <tr>\n",
       "      <th>4</th>\n",
       "      <td>0</td>\n",
       "      <td>15</td>\n",
       "      <td>1914</td>\n",
       "    </tr>\n",
       "  </tbody>\n",
       "</table>\n",
       "</div>"
      ],
      "text/plain": [
       "   churn  userId  SongsPlayed\n",
       "0      0  100010          275\n",
       "1      0  200002          387\n",
       "2      0     124         4079\n",
       "3      0       7          150\n",
       "4      0      15         1914"
      ]
     },
     "execution_count": 38,
     "metadata": {},
     "output_type": "execute_result"
    }
   ],
   "source": [
    "df_songs.head()"
   ]
  },
  {
   "cell_type": "code",
   "execution_count": 39,
   "metadata": {},
   "outputs": [
    {
     "data": {
      "image/png": "[encoded data removed]",
      "text/plain": [
       "<matplotlib.figure.Figure at 0x7f930c2edb00>"
      ]
     },
     "metadata": {
      "needs_background": "light"
     },
     "output_type": "display_data"
    }
   ],
   "source": [
    "plt.title(\"Distribution of songs played vs Target Churn\");\n",
    "sns.barplot(x=\"churn\", y=\"SongsPlayed\", data=df_songs);\n",
    "plt.show();"
   ]
  },
  {
   "cell_type": "code",
   "execution_count": 40,
   "metadata": {},
   "outputs": [
    {
     "data": {
      "text/plain": [
       "[]"
      ]
     },
     "execution_count": 40,
     "metadata": {},
     "output_type": "execute_result"
    },
    {
     "data": {
      "image/png": "[encoded data removed]",
      "text/plain": [
       "<matplotlib.figure.Figure at 0x7f931176d0f0>"
      ]
     },
     "metadata": {
      "needs_background": "light"
     },
     "output_type": "display_data"
    }
   ],
   "source": [
    "df_songs.hist(['SongsPlayed'], by='churn', sharex=True, sharey=True,density=1)\n",
    "plt.plot()"
   ]
  },
  {
   "cell_type": "code",
   "execution_count": 41,
   "metadata": {},
   "outputs": [
    {
     "data": {
      "image/png": "[encoded data removed]",
      "text/plain": [
       "<matplotlib.figure.Figure at 0x7f9331ee1898>"
      ]
     },
     "metadata": {
      "needs_background": "light"
     },
     "output_type": "display_data"
    }
   ],
   "source": [
    "def plot_graph(subset, group, labels, x_title=\"Number of users\", y_title=\"Subscription status\"):\n",
    "    ax = dfp.drop_duplicates(subset=subset).groupby(\n",
    "                                group)['userId'].count().plot(\n",
    "                                kind='barh', figsize=(10,6), \n",
    "                                title='Number of unique users per category');\n",
    "    ax.set_xlabel(x_title);\n",
    "    ax.set_yticklabels(labels, rotation=0)\n",
    "    ax.set_ylabel(y_title);\n",
    "\n",
    "# Test    \n",
    "plot_graph(['userId'], ['churn'], ['Active', 'Cancelled'])"
   ]
  },
  {
   "cell_type": "markdown",
   "metadata": {},
   "source": [
    "We see a huge number of cancelation, about 25% of the users canceled!"
   ]
  },
  {
   "cell_type": "code",
   "execution_count": 42,
   "metadata": {},
   "outputs": [
    {
     "data": {
      "image/png": "[encoded data removed]",
      "text/plain": [
       "<matplotlib.figure.Figure at 0x7f931b4d87f0>"
      ]
     },
     "metadata": {
      "needs_background": "light"
     },
     "output_type": "display_data"
    }
   ],
   "source": [
    "plot_graph(['userId', 'gender'], \n",
    "               ['gender', 'churn'], \n",
    "               ['Active-Female', 'Cancelled-Female', 'Active-Male', 'Cancelled-Male'])"
   ]
  },
  {
   "cell_type": "markdown",
   "metadata": {},
   "source": [
    "The active males are more than females, and the canceling males are higher than females too. Seems like males tend to cancel more than females."
   ]
  },
  {
   "cell_type": "markdown",
   "metadata": {},
   "source": [
    "#### Features based on Time"
   ]
  },
  {
   "cell_type": "code",
   "execution_count": 43,
   "metadata": {},
   "outputs": [],
   "source": [
    "# Defining user functions to get hour, day, month, and weekday of cancellation\n",
    "\n",
    "get_hour = udf(lambda x: datetime.datetime.fromtimestamp(x / 1000.0).hour)\n",
    "get_day = udf(lambda x: datetime.datetime.fromtimestamp(x / 1000.0).day)\n",
    "get_month = udf(lambda x: datetime.datetime.fromtimestamp(x / 1000.0).month)\n",
    "\n",
    "# Source https://stackoverflow.com/questions/38928919/how-to-get-the-weekday-from-day-of-month-using-pyspark\n",
    "get_weekday = udf(lambda x: datetime.datetime.fromtimestamp(x / 1000.0).strftime('%w'))"
   ]
  },
  {
   "cell_type": "code",
   "execution_count": 44,
   "metadata": {},
   "outputs": [
    {
     "name": "stdout",
     "output_type": "stream",
     "text": [
      "Column hour added successfully.\n",
      "Column day added successfully.\n",
      "Column month added successfully.\n",
      "Column week_day added successfully.\n"
     ]
    }
   ],
   "source": [
    "# Adding columns to the dataframe\n",
    "funcs = {'hour':get_hour, 'day':get_day, 'month':get_month, 'week_day':get_weekday}\n",
    "for label, func in funcs.items():\n",
    "    df = df.withColumn(label, func(df.ts))\n",
    "    df.take(1)\n",
    "    print(f'Column {label} added successfully.')"
   ]
  },
  {
   "cell_type": "code",
   "execution_count": 45,
   "metadata": {},
   "outputs": [
    {
     "data": {
      "text/plain": [
       "[Row(artist='Sleeping With Sirens', auth='Logged In', firstName='Darianna', gender='F', itemInSession=0, lastName='Carpenter', length=202.97098, level='free', location='Bridgeport-Stamford-Norwalk, CT', method='PUT', page='NextSong', registration=1538016340000, sessionId=31, song='Captain Tyin Knots VS Mr Walkway (No Way)', status=200, ts=1539003534000, userAgent='\"Mozilla/5.0 (iPhone; CPU iPhone OS 7_1_2 like Mac OS X) AppleWebKit/537.51.2 (KHTML, like Gecko) Version/7.0 Mobile/11D257 Safari/9537.53\"', userId='100010', churn=0, hour='12', day='8', month='10', week_day='1'),\n",
       " Row(artist='Francesca Battistelli', auth='Logged In', firstName='Darianna', gender='F', itemInSession=1, lastName='Carpenter', length=196.54485, level='free', location='Bridgeport-Stamford-Norwalk, CT', method='PUT', page='NextSong', registration=1538016340000, sessionId=31, song='Beautiful_ Beautiful (Album)', status=200, ts=1539003736000, userAgent='\"Mozilla/5.0 (iPhone; CPU iPhone OS 7_1_2 like Mac OS X) AppleWebKit/537.51.2 (KHTML, like Gecko) Version/7.0 Mobile/11D257 Safari/9537.53\"', userId='100010', churn=0, hour='13', day='8', month='10', week_day='1')]"
      ]
     },
     "execution_count": 45,
     "metadata": {},
     "output_type": "execute_result"
    }
   ],
   "source": [
    "df.take(2)"
   ]
  },
  {
   "cell_type": "code",
   "execution_count": 46,
   "metadata": {},
   "outputs": [
    {
     "data": {
      "text/html": [
       "<div>\n",
       "<style scoped>\n",
       "    .dataframe tbody tr th:only-of-type {\n",
       "        vertical-align: middle;\n",
       "    }\n",
       "\n",
       "    .dataframe tbody tr th {\n",
       "        vertical-align: top;\n",
       "    }\n",
       "\n",
       "    .dataframe thead th {\n",
       "        text-align: right;\n",
       "    }\n",
       "</style>\n",
       "<table border=\"1\" class=\"dataframe\">\n",
       "  <thead>\n",
       "    <tr style=\"text-align: right;\">\n",
       "      <th></th>\n",
       "      <th>artist</th>\n",
       "      <th>auth</th>\n",
       "      <th>firstName</th>\n",
       "      <th>gender</th>\n",
       "      <th>itemInSession</th>\n",
       "      <th>lastName</th>\n",
       "      <th>length</th>\n",
       "      <th>level</th>\n",
       "      <th>location</th>\n",
       "      <th>method</th>\n",
       "      <th>...</th>\n",
       "      <th>song</th>\n",
       "      <th>status</th>\n",
       "      <th>ts</th>\n",
       "      <th>userAgent</th>\n",
       "      <th>userId</th>\n",
       "      <th>churn</th>\n",
       "      <th>hour</th>\n",
       "      <th>day</th>\n",
       "      <th>month</th>\n",
       "      <th>week_day</th>\n",
       "    </tr>\n",
       "  </thead>\n",
       "  <tbody>\n",
       "    <tr>\n",
       "      <th>0</th>\n",
       "      <td>Sleeping With Sirens</td>\n",
       "      <td>Logged In</td>\n",
       "      <td>Darianna</td>\n",
       "      <td>F</td>\n",
       "      <td>0</td>\n",
       "      <td>Carpenter</td>\n",
       "      <td>202.97098</td>\n",
       "      <td>free</td>\n",
       "      <td>Bridgeport-Stamford-Norwalk, CT</td>\n",
       "      <td>PUT</td>\n",
       "      <td>...</td>\n",
       "      <td>Captain Tyin Knots VS Mr Walkway (No Way)</td>\n",
       "      <td>200</td>\n",
       "      <td>1539003534000</td>\n",
       "      <td>\"Mozilla/5.0 (iPhone; CPU iPhone OS 7_1_2 like...</td>\n",
       "      <td>100010</td>\n",
       "      <td>0</td>\n",
       "      <td>12</td>\n",
       "      <td>8</td>\n",
       "      <td>10</td>\n",
       "      <td>1</td>\n",
       "    </tr>\n",
       "    <tr>\n",
       "      <th>1</th>\n",
       "      <td>Francesca Battistelli</td>\n",
       "      <td>Logged In</td>\n",
       "      <td>Darianna</td>\n",
       "      <td>F</td>\n",
       "      <td>1</td>\n",
       "      <td>Carpenter</td>\n",
       "      <td>196.54485</td>\n",
       "      <td>free</td>\n",
       "      <td>Bridgeport-Stamford-Norwalk, CT</td>\n",
       "      <td>PUT</td>\n",
       "      <td>...</td>\n",
       "      <td>Beautiful_ Beautiful (Album)</td>\n",
       "      <td>200</td>\n",
       "      <td>1539003736000</td>\n",
       "      <td>\"Mozilla/5.0 (iPhone; CPU iPhone OS 7_1_2 like...</td>\n",
       "      <td>100010</td>\n",
       "      <td>0</td>\n",
       "      <td>13</td>\n",
       "      <td>8</td>\n",
       "      <td>10</td>\n",
       "      <td>1</td>\n",
       "    </tr>\n",
       "  </tbody>\n",
       "</table>\n",
       "<p>2 rows × 23 columns</p>\n",
       "</div>"
      ],
      "text/plain": [
       "                  artist       auth firstName gender  itemInSession  \\\n",
       "0   Sleeping With Sirens  Logged In  Darianna      F              0   \n",
       "1  Francesca Battistelli  Logged In  Darianna      F              1   \n",
       "\n",
       "    lastName     length level                         location method  \\\n",
       "0  Carpenter  202.97098  free  Bridgeport-Stamford-Norwalk, CT    PUT   \n",
       "1  Carpenter  196.54485  free  Bridgeport-Stamford-Norwalk, CT    PUT   \n",
       "\n",
       "    ...                                          song  status             ts  \\\n",
       "0   ...     Captain Tyin Knots VS Mr Walkway (No Way)     200  1539003534000   \n",
       "1   ...                  Beautiful_ Beautiful (Album)     200  1539003736000   \n",
       "\n",
       "                                           userAgent  userId  churn hour day  \\\n",
       "0  \"Mozilla/5.0 (iPhone; CPU iPhone OS 7_1_2 like...  100010      0   12   8   \n",
       "1  \"Mozilla/5.0 (iPhone; CPU iPhone OS 7_1_2 like...  100010      0   13   8   \n",
       "\n",
       "   month week_day  \n",
       "0     10        1  \n",
       "1     10        1  \n",
       "\n",
       "[2 rows x 23 columns]"
      ]
     },
     "execution_count": 46,
     "metadata": {},
     "output_type": "execute_result"
    }
   ],
   "source": [
    "# to help in better plotting and visuals\n",
    "dfp = df.toPandas()\n",
    "dfp.head(2)"
   ]
  },
  {
   "cell_type": "code",
   "execution_count": 47,
   "metadata": {},
   "outputs": [],
   "source": [
    "songs_in_hour = df.filter(df.page == \"NextSong\").groupby([df.hour, df.churn]).count().orderBy(df.hour.cast(\"float\"))"
   ]
  },
  {
   "cell_type": "code",
   "execution_count": 48,
   "metadata": {},
   "outputs": [
    {
     "name": "stdout",
     "output_type": "stream",
     "text": [
      "+----+-----+-----+\n",
      "|hour|churn|count|\n",
      "+----+-----+-----+\n",
      "|   0|    0| 7527|\n",
      "|   0|    1| 1535|\n",
      "|   1|    0| 7035|\n",
      "|   1|    1| 1353|\n",
      "|   2|    1| 1322|\n",
      "|   2|    0| 7014|\n",
      "|   3|    1| 1292|\n",
      "|   3|    0| 7063|\n",
      "|   4|    1| 1233|\n",
      "|   4|    0| 6914|\n",
      "|   5|    0| 6960|\n",
      "|   5|    1| 1218|\n",
      "|   6|    0| 6836|\n",
      "|   6|    1| 1218|\n",
      "|   7|    1| 1218|\n",
      "|   7|    0| 6873|\n",
      "|   8|    0| 7023|\n",
      "|   8|    1| 1230|\n",
      "|   9|    0| 7268|\n",
      "|   9|    1| 1230|\n",
      "+----+-----+-----+\n",
      "only showing top 20 rows\n",
      "\n"
     ]
    }
   ],
   "source": [
    "songs_in_hour.show()"
   ]
  },
  {
   "cell_type": "code",
   "execution_count": 49,
   "metadata": {},
   "outputs": [],
   "source": [
    "songs_in_hour_pd = songs_in_hour.toPandas()\n",
    "songs_in_hour_pd.hour = pd.to_numeric(songs_in_hour_pd.hour)"
   ]
  },
  {
   "cell_type": "code",
   "execution_count": 50,
   "metadata": {},
   "outputs": [
    {
     "data": {
      "text/html": [
       "<div>\n",
       "<style scoped>\n",
       "    .dataframe tbody tr th:only-of-type {\n",
       "        vertical-align: middle;\n",
       "    }\n",
       "\n",
       "    .dataframe tbody tr th {\n",
       "        vertical-align: top;\n",
       "    }\n",
       "\n",
       "    .dataframe thead th {\n",
       "        text-align: right;\n",
       "    }\n",
       "</style>\n",
       "<table border=\"1\" class=\"dataframe\">\n",
       "  <thead>\n",
       "    <tr style=\"text-align: right;\">\n",
       "      <th></th>\n",
       "      <th>hour</th>\n",
       "      <th>churn</th>\n",
       "      <th>count</th>\n",
       "    </tr>\n",
       "  </thead>\n",
       "  <tbody>\n",
       "    <tr>\n",
       "      <th>0</th>\n",
       "      <td>0</td>\n",
       "      <td>1</td>\n",
       "      <td>1535</td>\n",
       "    </tr>\n",
       "    <tr>\n",
       "      <th>1</th>\n",
       "      <td>0</td>\n",
       "      <td>0</td>\n",
       "      <td>7527</td>\n",
       "    </tr>\n",
       "    <tr>\n",
       "      <th>2</th>\n",
       "      <td>1</td>\n",
       "      <td>0</td>\n",
       "      <td>7035</td>\n",
       "    </tr>\n",
       "    <tr>\n",
       "      <th>3</th>\n",
       "      <td>1</td>\n",
       "      <td>1</td>\n",
       "      <td>1353</td>\n",
       "    </tr>\n",
       "    <tr>\n",
       "      <th>4</th>\n",
       "      <td>2</td>\n",
       "      <td>1</td>\n",
       "      <td>1322</td>\n",
       "    </tr>\n",
       "  </tbody>\n",
       "</table>\n",
       "</div>"
      ],
      "text/plain": [
       "   hour  churn  count\n",
       "0     0      1   1535\n",
       "1     0      0   7527\n",
       "2     1      0   7035\n",
       "3     1      1   1353\n",
       "4     2      1   1322"
      ]
     },
     "execution_count": 50,
     "metadata": {},
     "output_type": "execute_result"
    }
   ],
   "source": [
    "songs_in_hour_pd.head()"
   ]
  },
  {
   "cell_type": "code",
   "execution_count": 51,
   "metadata": {
    "scrolled": true
   },
   "outputs": [
    {
     "data": {
      "image/png": "[encoded data removed]",
      "text/plain": [
       "<matplotlib.figure.Figure at 0x7f9309d7cc18>"
      ]
     },
     "metadata": {
      "needs_background": "light"
     },
     "output_type": "display_data"
    },
    {
     "data": {
      "text/plain": [
       "<matplotlib.figure.Figure at 0x7f9306eff940>"
      ]
     },
     "metadata": {},
     "output_type": "display_data"
    }
   ],
   "source": [
    "plt.title(\"Distribution of hour vs Target Churn\");\n",
    "sns.barplot(x=\"hour\", y=\"count\", hue='churn',data=songs_in_hour_pd);\n",
    "plt.figure(figsize=(20,10))\n",
    "plt.show();"
   ]
  },
  {
   "cell_type": "code",
   "execution_count": 52,
   "metadata": {},
   "outputs": [
    {
     "data": {
      "text/plain": [
       "[Row(artist='Sleeping With Sirens', auth='Logged In', firstName='Darianna', gender='F', itemInSession=0, lastName='Carpenter', length=202.97098, level='free', location='Bridgeport-Stamford-Norwalk, CT', method='PUT', page='NextSong', registration=1538016340000, sessionId=31, song='Captain Tyin Knots VS Mr Walkway (No Way)', status=200, ts=1539003534000, userAgent='\"Mozilla/5.0 (iPhone; CPU iPhone OS 7_1_2 like Mac OS X) AppleWebKit/537.51.2 (KHTML, like Gecko) Version/7.0 Mobile/11D257 Safari/9537.53\"', userId='100010', churn=0, hour='12', day='8', month='10', week_day='1')]"
      ]
     },
     "execution_count": 52,
     "metadata": {},
     "output_type": "execute_result"
    }
   ],
   "source": [
    "df.take(1)"
   ]
  },
  {
   "cell_type": "code",
   "execution_count": null,
   "metadata": {},
   "outputs": [],
   "source": [
    "#number of songs played by both the groups\n",
    "df_hour_songs = df.where(df.song !='null').groupby(['churn','hour']) \\\n",
    "    .agg(count(df.song).alias('SongsPlayed')).orderBy('churn').toPandas()\n",
    "df_hour_songs.head()"
   ]
  },
  {
   "cell_type": "code",
   "execution_count": null,
   "metadata": {},
   "outputs": [],
   "source": [
    "df.take(1)"
   ]
  },
  {
   "cell_type": "code",
   "execution_count": null,
   "metadata": {},
   "outputs": [],
   "source": [
    "df.createOrReplaceTempView('df_table')"
   ]
  },
  {
   "cell_type": "code",
   "execution_count": null,
   "metadata": {},
   "outputs": [],
   "source": [
    "spark.sql(\"\"\"\n",
    "          SELECT\n",
    "              churn,\n",
    "              count(distinct userId)\n",
    "            FROM\n",
    "                df_table\n",
    "            GROUP BY\n",
    "                churn\n",
    "            \"\"\").show()"
   ]
  },
  {
   "cell_type": "markdown",
   "metadata": {},
   "source": [
    "# Feature Engineering\n",
    "Once you've familiarized yourself with the data, build out the features you find promising to train your model on. To work with the full dataset, you can follow the following steps.\n",
    "- Write a script to extract the necessary features from the smaller subset of data\n",
    "- Ensure that your script is scalable, using the best practices discussed in Lesson 3\n",
    "- Try your script on the full data set, debugging your script if necessary\n",
    "\n",
    "If you are working in the classroom workspace, you can just extract features based on the small subset of data contained here. Be sure to transfer over this work to the larger dataset when you work on your Spark cluster."
   ]
  },
  {
   "cell_type": "code",
   "execution_count": 57,
   "metadata": {},
   "outputs": [
    {
     "name": "stdout",
     "output_type": "stream",
     "text": [
      "+--------------------+\n",
      "|                page|\n",
      "+--------------------+\n",
      "|              Cancel|\n",
      "|    Submit Downgrade|\n",
      "|         Thumbs Down|\n",
      "|                Home|\n",
      "|           Downgrade|\n",
      "|         Roll Advert|\n",
      "|              Logout|\n",
      "|       Save Settings|\n",
      "|Cancellation Conf...|\n",
      "|               About|\n",
      "|            Settings|\n",
      "|     Add to Playlist|\n",
      "|          Add Friend|\n",
      "|            NextSong|\n",
      "|           Thumbs Up|\n",
      "|                Help|\n",
      "|             Upgrade|\n",
      "|               Error|\n",
      "|      Submit Upgrade|\n",
      "+--------------------+\n",
      "\n"
     ]
    }
   ],
   "source": [
    "#let us what features - we can add to final model\n",
    "df.select(\"page\").dropDuplicates().show()"
   ]
  },
  {
   "cell_type": "markdown",
   "metadata": {},
   "source": [
    "#### submit downgrade Feature"
   ]
  },
  {
   "cell_type": "code",
   "execution_count": 58,
   "metadata": {},
   "outputs": [],
   "source": [
    "#submit downgrade and thumbs down might be important parameters if we think that the user might churn\n",
    "users_with_downgrade = spark.sql(\"select distinct userId from df_table where page = 'Submit Downgrade'\")\n",
    "users_with_downgrade = users_with_downgrade.toPandas()['userId'].values"
   ]
  },
  {
   "cell_type": "code",
   "execution_count": 59,
   "metadata": {},
   "outputs": [
    {
     "data": {
      "text/plain": [
       "<function __main__.<lambda>(user)>"
      ]
     },
     "execution_count": 59,
     "metadata": {},
     "output_type": "execute_result"
    }
   ],
   "source": [
    "has_sub_downgrade = udf(lambda user: 1 if user in users_with_downgrade else 0, IntegerType())\n",
    "spark.udf.register('has_sub_downgrade', has_sub_downgrade)"
   ]
  },
  {
   "cell_type": "code",
   "execution_count": 60,
   "metadata": {},
   "outputs": [],
   "source": [
    "df = spark.sql(\"\"\"\n",
    "    SELECT\n",
    "        *,\n",
    "        has_sub_downgrade(userId) as hasSubDowngrade\n",
    "    FROM\n",
    "        df_table\n",
    "    \"\"\")"
   ]
  },
  {
   "cell_type": "code",
   "execution_count": 61,
   "metadata": {},
   "outputs": [],
   "source": [
    "df.createOrReplaceTempView('df_table')"
   ]
  },
  {
   "cell_type": "code",
   "execution_count": 62,
   "metadata": {},
   "outputs": [],
   "source": [
    "downgrade_feat = spark.sql(\"\"\"\n",
    "    SELECT\n",
    "        DISTINCT userId,\n",
    "        hasSubDowngrade,\n",
    "        churn\n",
    "    FROM\n",
    "        df_table\n",
    "    \"\"\")"
   ]
  },
  {
   "cell_type": "code",
   "execution_count": 63,
   "metadata": {},
   "outputs": [
    {
     "data": {
      "text/plain": [
       "DataFrame[userId: string, hasSubDowngrade: int, churn: bigint]"
      ]
     },
     "execution_count": 63,
     "metadata": {},
     "output_type": "execute_result"
    }
   ],
   "source": [
    "downgrade_feat"
   ]
  },
  {
   "cell_type": "code",
   "execution_count": 64,
   "metadata": {},
   "outputs": [
    {
     "data": {
      "text/plain": [
       "[Row(userId='300017', hasSubDowngrade=0, churn=0)]"
      ]
     },
     "execution_count": 64,
     "metadata": {},
     "output_type": "execute_result"
    }
   ],
   "source": [
    "downgrade_feat.take(1)"
   ]
  },
  {
   "cell_type": "code",
   "execution_count": 65,
   "metadata": {},
   "outputs": [],
   "source": [
    "downgrade_feat.createOrReplaceTempView('downgrade_feat_table')"
   ]
  },
  {
   "cell_type": "code",
   "execution_count": 66,
   "metadata": {},
   "outputs": [
    {
     "name": "stdout",
     "output_type": "stream",
     "text": [
      "+-----+-----------------------------------------------------------------------------------------------+\n",
      "|churn|(CAST(sum(CAST(hasSubDowngrade AS BIGINT)) AS DOUBLE) / CAST(count(DISTINCT userId) AS DOUBLE))|\n",
      "+-----+-----------------------------------------------------------------------------------------------+\n",
      "|    0|                                                                            0.23121387283236994|\n",
      "|    1|                                                                            0.17307692307692307|\n",
      "+-----+-----------------------------------------------------------------------------------------------+\n",
      "\n"
     ]
    }
   ],
   "source": [
    "spark.sql(\"select churn, sum(hasSubDowngrade)/count(distinct userId) from downgrade_feat_table group by churn\").show()"
   ]
  },
  {
   "cell_type": "markdown",
   "metadata": {},
   "source": [
    "Intersting observation is that the users with churn status = 1 has lesser count % in downgrading as compared to churn status = 0. Hence we will not include this feature."
   ]
  },
  {
   "cell_type": "markdown",
   "metadata": {},
   "source": [
    "#### Usage time of the User"
   ]
  },
  {
   "cell_type": "code",
   "execution_count": 67,
   "metadata": {},
   "outputs": [],
   "source": [
    "usage_time_feature = spark.sql(\"\"\"\n",
    "    SELECT\n",
    "        DISTINCT userId,\n",
    "        sum(nvl(length, 0)) as usageTime\n",
    "    FROM\n",
    "        df_table\n",
    "    WHERE\n",
    "        page = 'NextSong'\n",
    "    GROUP BY\n",
    "        userId\n",
    "    \"\"\")"
   ]
  },
  {
   "cell_type": "code",
   "execution_count": 68,
   "metadata": {},
   "outputs": [],
   "source": [
    "usage_time_feature.createOrReplaceTempView('usage_time_feature_table')"
   ]
  },
  {
   "cell_type": "code",
   "execution_count": 69,
   "metadata": {},
   "outputs": [],
   "source": [
    "usage_time = spark.sql(\"\"\"\n",
    "    SELECT\n",
    "        churn,\n",
    "        sum(length)/count(distinct userId) as usageTime\n",
    "    FROM\n",
    "        df_table\n",
    "    WHERE\n",
    "        page = 'NextSong'\n",
    "    GROUP BY\n",
    "        churn\n",
    "    \"\"\")"
   ]
  },
  {
   "cell_type": "code",
   "execution_count": 70,
   "metadata": {},
   "outputs": [
    {
     "name": "stdout",
     "output_type": "stream",
     "text": [
      "+-----+------------------+\n",
      "|churn|         usageTime|\n",
      "+-----+------------------+\n",
      "|    0|276166.93746780336|\n",
      "|    1| 174014.2685513462|\n",
      "+-----+------------------+\n",
      "\n"
     ]
    }
   ],
   "source": [
    "usage_time.show()"
   ]
  },
  {
   "cell_type": "markdown",
   "metadata": {},
   "source": [
    "We can observe that we have high usage time for non-churn users - hence we can include this feature to our final model"
   ]
  },
  {
   "cell_type": "markdown",
   "metadata": {},
   "source": [
    "#### Feature Thumps Up"
   ]
  },
  {
   "cell_type": "markdown",
   "metadata": {},
   "source": [
    " We assume that the churn user will have lesser Thumps up"
   ]
  },
  {
   "cell_type": "code",
   "execution_count": 71,
   "metadata": {},
   "outputs": [],
   "source": [
    "thumps_up_feature = spark.sql(\"\"\"\n",
    "    SELECT\n",
    "        DISTINCT userId,\n",
    "        count(1) as Count_ThumpsUp\n",
    "    FROM\n",
    "        df_table\n",
    "    WHERE\n",
    "        page = 'Thumbs Up'\n",
    "    GROUP BY\n",
    "        userId\n",
    "    \"\"\")\n",
    "\n",
    "thumps_up_feature.createOrReplaceTempView('thumps_up_feature_table')"
   ]
  },
  {
   "cell_type": "code",
   "execution_count": 72,
   "metadata": {},
   "outputs": [
    {
     "name": "stdout",
     "output_type": "stream",
     "text": [
      "+------+--------------+\n",
      "|userId|Count_ThumpsUp|\n",
      "+------+--------------+\n",
      "|100010|            17|\n",
      "|200002|            21|\n",
      "|    51|           100|\n",
      "|   124|           171|\n",
      "|     7|             7|\n",
      "+------+--------------+\n",
      "only showing top 5 rows\n",
      "\n"
     ]
    }
   ],
   "source": [
    "thumps_up_feature.show(5)"
   ]
  },
  {
   "cell_type": "code",
   "execution_count": 73,
   "metadata": {},
   "outputs": [
    {
     "data": {
      "text/plain": [
       "[Row(artist='Sleeping With Sirens', auth='Logged In', firstName='Darianna', gender='F', itemInSession=0, lastName='Carpenter', length=202.97098, level='free', location='Bridgeport-Stamford-Norwalk, CT', method='PUT', page='NextSong', registration=1538016340000, sessionId=31, song='Captain Tyin Knots VS Mr Walkway (No Way)', status=200, ts=1539003534000, userAgent='\"Mozilla/5.0 (iPhone; CPU iPhone OS 7_1_2 like Mac OS X) AppleWebKit/537.51.2 (KHTML, like Gecko) Version/7.0 Mobile/11D257 Safari/9537.53\"', userId='100010', churn=0, hour='12', day='8', month='10', week_day='1', hasSubDowngrade=0)]"
      ]
     },
     "execution_count": 73,
     "metadata": {},
     "output_type": "execute_result"
    }
   ],
   "source": [
    "df.take(1)"
   ]
  },
  {
   "cell_type": "markdown",
   "metadata": {},
   "source": [
    "#### Feature thumbs down"
   ]
  },
  {
   "cell_type": "code",
   "execution_count": 74,
   "metadata": {},
   "outputs": [],
   "source": [
    "thumps_down_feature = spark.sql(\"\"\"\n",
    "    SELECT\n",
    "        DISTINCT userId,\n",
    "        count(1) as Count_ThumpsDown\n",
    "    FROM\n",
    "        df_table\n",
    "    WHERE\n",
    "        page = 'Thumbs Down'\n",
    "    GROUP BY\n",
    "        userId\n",
    "    \"\"\")\n",
    "\n",
    "thumps_down_feature.createOrReplaceTempView('thumps_down_feature_table')"
   ]
  },
  {
   "cell_type": "code",
   "execution_count": 75,
   "metadata": {},
   "outputs": [
    {
     "name": "stdout",
     "output_type": "stream",
     "text": [
      "+------+----------------+\n",
      "|userId|Count_ThumpsDown|\n",
      "+------+----------------+\n",
      "|100010|               5|\n",
      "|200002|               6|\n",
      "|    51|              21|\n",
      "|   124|              41|\n",
      "|     7|               1|\n",
      "+------+----------------+\n",
      "only showing top 5 rows\n",
      "\n"
     ]
    }
   ],
   "source": [
    "thumps_down_feature.show(5)"
   ]
  },
  {
   "cell_type": "markdown",
   "metadata": {},
   "source": [
    "#### Feature - Help"
   ]
  },
  {
   "cell_type": "markdown",
   "metadata": {},
   "source": [
    "Assuming that the user with churn asks for less help"
   ]
  },
  {
   "cell_type": "code",
   "execution_count": 76,
   "metadata": {},
   "outputs": [
    {
     "name": "stdout",
     "output_type": "stream",
     "text": [
      "+-----+-------------------------------------------------------------------+\n",
      "|churn|(CAST(count(1) AS DOUBLE) / CAST(count(DISTINCT userId) AS DOUBLE))|\n",
      "+-----+-------------------------------------------------------------------+\n",
      "|    0|                                                  8.154362416107382|\n",
      "|    1|                                                  5.558139534883721|\n",
      "+-----+-------------------------------------------------------------------+\n",
      "\n"
     ]
    }
   ],
   "source": [
    "spark.sql(\"\"\"\n",
    "    SELECT\n",
    "        churn,\n",
    "        count(1)/count(DISTINCT userId)\n",
    "    FROM\n",
    "        df_table\n",
    "    WHERE\n",
    "        page = 'Help'\n",
    "    GROUP BY\n",
    "        churn\n",
    "    \"\"\").show()"
   ]
  },
  {
   "cell_type": "markdown",
   "metadata": {},
   "source": [
    "It is clear that - users with churn status have asked for less help"
   ]
  },
  {
   "cell_type": "code",
   "execution_count": 77,
   "metadata": {},
   "outputs": [],
   "source": [
    "feature_help = spark.sql(\"\"\"\n",
    "    SELECT\n",
    "        DISTINCT userId,\n",
    "        count(1) as n_help\n",
    "    FROM\n",
    "        df_table\n",
    "    WHERE\n",
    "        page = 'Help'\n",
    "    GROUP BY\n",
    "        userId\n",
    "    \"\"\")\n",
    "\n",
    "feature_help.createOrReplaceTempView('feature_help_table')"
   ]
  },
  {
   "cell_type": "markdown",
   "metadata": {},
   "source": [
    "#### Add to playlist Feature"
   ]
  },
  {
   "cell_type": "markdown",
   "metadata": {},
   "source": [
    "Here we assume that users with less churn status will be more on adding to 'Add to Playlist'"
   ]
  },
  {
   "cell_type": "code",
   "execution_count": 78,
   "metadata": {},
   "outputs": [],
   "source": [
    "feature_add_to_playlist =spark.sql(\"\"\"\n",
    "    SELECT\n",
    "        churn,\n",
    "        count(1)/count(DISTINCT userId)\n",
    "    FROM\n",
    "        df_table\n",
    "    WHERE\n",
    "        page = 'Add to Playlist'\n",
    "    GROUP BY\n",
    "        churn\n",
    "    \"\"\")"
   ]
  },
  {
   "cell_type": "code",
   "execution_count": 79,
   "metadata": {},
   "outputs": [],
   "source": [
    "feature_add_to_playlist.createOrReplaceTempView('feature_add_to_playlist_table')"
   ]
  },
  {
   "cell_type": "code",
   "execution_count": 80,
   "metadata": {},
   "outputs": [
    {
     "name": "stdout",
     "output_type": "stream",
     "text": [
      "+-----+-------------------------------------------------------------------+\n",
      "|churn|(CAST(count(1) AS DOUBLE) / CAST(count(DISTINCT userId) AS DOUBLE))|\n",
      "+-----+-------------------------------------------------------------------+\n",
      "|    0|                                                  33.26060606060606|\n",
      "|    1|                                                              20.76|\n",
      "+-----+-------------------------------------------------------------------+\n",
      "\n"
     ]
    }
   ],
   "source": [
    "feature_add_to_playlist.show()"
   ]
  },
  {
   "cell_type": "markdown",
   "metadata": {},
   "source": [
    "#### Paid length user Feature"
   ]
  },
  {
   "cell_type": "markdown",
   "metadata": {},
   "source": [
    "We can check the feature - Paid users will not get churn"
   ]
  },
  {
   "cell_type": "code",
   "execution_count": 81,
   "metadata": {},
   "outputs": [
    {
     "name": "stdout",
     "output_type": "stream",
     "text": [
      "+-----+-------------------------------------------------------------------+\n",
      "|churn|(CAST(count(1) AS DOUBLE) / CAST(count(DISTINCT userId) AS DOUBLE))|\n",
      "+-----+-------------------------------------------------------------------+\n",
      "|    0|                                                 1472.5348837209303|\n",
      "|    1|                                                  902.1111111111111|\n",
      "+-----+-------------------------------------------------------------------+\n",
      "\n"
     ]
    }
   ],
   "source": [
    "spark.sql(\"\"\"\n",
    "    SELECT\n",
    "        churn,\n",
    "        count(1)/count(DISTINCT userId)\n",
    "    FROM\n",
    "        df_table\n",
    "    WHERE\n",
    "        level = 'paid'\n",
    "    GROUP BY\n",
    "        churn\n",
    "    \"\"\").show()"
   ]
  },
  {
   "cell_type": "code",
   "execution_count": 82,
   "metadata": {},
   "outputs": [],
   "source": [
    "feature_length_paid = spark.sql(\"\"\"\n",
    "    SELECT\n",
    "        DISTINCT userId,\n",
    "        sum(nvl(length, 0)) as lengthAsPaid\n",
    "    FROM\n",
    "        df_table\n",
    "    WHERE\n",
    "        level = 'paid'\n",
    "    GROUP BY\n",
    "        userId\n",
    "    \"\"\")\n",
    "\n",
    "feature_length_paid.createOrReplaceTempView('feature_length_paid_table')"
   ]
  },
  {
   "cell_type": "markdown",
   "metadata": {},
   "source": [
    "### Combine All Features"
   ]
  },
  {
   "cell_type": "markdown",
   "metadata": {},
   "source": [
    "Total usage time of the app per user"
   ]
  },
  {
   "cell_type": "code",
   "execution_count": 83,
   "metadata": {},
   "outputs": [],
   "source": [
    "usage_time_attribute = spark.sql(\"\"\"\n",
    "    SELECT\n",
    "        DISTINCT d.userId,\n",
    "        usageTime\n",
    "    FROM\n",
    "        df_table as d\n",
    "    LEFT JOIN\n",
    "        usage_time_feature_table as f\n",
    "    ON\n",
    "        d.userId=f.userId\n",
    "    \"\"\")\n",
    "\n",
    "usage_time_attribute.createOrReplaceTempView('usage_time_attribute_table')"
   ]
  },
  {
   "cell_type": "markdown",
   "metadata": {},
   "source": [
    "Shows how many thumbs Up a particular user has given"
   ]
  },
  {
   "cell_type": "code",
   "execution_count": 84,
   "metadata": {},
   "outputs": [],
   "source": [
    "thumps_up_feature = spark.sql(\"\"\"\n",
    "    SELECT\n",
    "        DISTINCT d.userId,\n",
    "        Count_ThumpsUp\n",
    "    FROM\n",
    "        df_table as d\n",
    "    LEFT JOIN\n",
    "        thumps_up_feature_table as f\n",
    "    ON\n",
    "        d.userId=f.userId\n",
    "    \"\"\")\n",
    "\n",
    "thumps_up_feature.createOrReplaceTempView('thumps_up_feature_table')"
   ]
  },
  {
   "cell_type": "markdown",
   "metadata": {},
   "source": [
    "Shows how many thumbs down a particular user has given "
   ]
  },
  {
   "cell_type": "code",
   "execution_count": 85,
   "metadata": {},
   "outputs": [],
   "source": [
    "thumps_down_feature = spark.sql(\"\"\"\n",
    "    SELECT\n",
    "        DISTINCT d.userId,\n",
    "        Count_ThumpsDown\n",
    "    FROM\n",
    "        df_table as d\n",
    "    LEFT JOIN\n",
    "        thumps_down_feature_table as f\n",
    "    ON\n",
    "        d.userId=f.userId\n",
    "    \"\"\")\n",
    "\n",
    "thumps_down_feature.createOrReplaceTempView('thumps_down_feature_table')"
   ]
  },
  {
   "cell_type": "markdown",
   "metadata": {},
   "source": [
    "Shows the user taking help from others"
   ]
  },
  {
   "cell_type": "code",
   "execution_count": 86,
   "metadata": {},
   "outputs": [],
   "source": [
    "feature_help = spark.sql(\"\"\"\n",
    "    SELECT\n",
    "        DISTINCT d.userId,\n",
    "        n_help\n",
    "    FROM\n",
    "        df_table as d\n",
    "    LEFT JOIN\n",
    "        feature_help_table as f\n",
    "    ON\n",
    "        d.userId=f.userId\n",
    "    \"\"\")\n",
    "\n",
    "feature_help.createOrReplaceTempView('feature_help_table')"
   ]
  },
  {
   "cell_type": "markdown",
   "metadata": {},
   "source": [
    "Shows the paid status length of each User"
   ]
  },
  {
   "cell_type": "code",
   "execution_count": 87,
   "metadata": {},
   "outputs": [],
   "source": [
    "feature_length_paid = spark.sql(\"\"\"\n",
    "    SELECT\n",
    "        DISTINCT d.userId,\n",
    "        lengthAsPaid\n",
    "    FROM\n",
    "        df_table as d\n",
    "    LEFT JOIN\n",
    "        feature_length_paid_table as f\n",
    "    ON\n",
    "        d.userId=f.userId\n",
    "    \"\"\")\n",
    "\n",
    "feature_length_paid.createOrReplaceTempView('feature_length_paid_table')"
   ]
  },
  {
   "cell_type": "markdown",
   "metadata": {},
   "source": [
    "## Final combined file"
   ]
  },
  {
   "cell_type": "code",
   "execution_count": 88,
   "metadata": {},
   "outputs": [],
   "source": [
    "features = spark.sql(\"\"\"\n",
    "    SELECT\n",
    "        usage.userId,       \n",
    "        paid.lengthAsPaid,\n",
    "        n_help,\n",
    "        Count_ThumpsUp,\n",
    "        usageTime,\n",
    "        Count_ThumpsDown\n",
    "    FROM\n",
    "        usage_time_attribute_table as usage    \n",
    "    LEFT JOIN\n",
    "        feature_length_paid_table as paid\n",
    "    ON\n",
    "        paid.userId = usage.userId \n",
    "    LEFT JOIN\n",
    "        feature_help_table as help\n",
    "    ON\n",
    "        help.userId=paid.userId \n",
    "    LEFT JOIN\n",
    "        thumps_up_feature_table as thumpsup\n",
    "    ON\n",
    "        thumpsup.userId=help.userId\n",
    "    LEFT JOIN\n",
    "        thumps_down_feature_table as thumpsdown\n",
    "    ON\n",
    "        thumpsdown.userId=help.userId       \n",
    "    \"\"\")\n",
    "features.createOrReplaceTempView('features_table')"
   ]
  },
  {
   "cell_type": "code",
   "execution_count": 89,
   "metadata": {},
   "outputs": [
    {
     "name": "stdout",
     "output_type": "stream",
     "text": [
      "+------+------------------+------+--------------+------------------+----------------+\n",
      "|userId|      lengthAsPaid|n_help|Count_ThumpsUp|         usageTime|Count_ThumpsDown|\n",
      "+------+------------------+------+--------------+------------------+----------------+\n",
      "|100010|              null|     2|            17| 66940.89735000003|               5|\n",
      "|200002| 72934.26395999998|     2|            21| 94008.87593999993|               6|\n",
      "|   125|              null|  null|          null|2089.1131000000005|            null|\n",
      "|   124|1012312.0927899999|    23|           171|1012312.0927899999|              41|\n",
      "|    51| 523275.8428000004|    12|           100| 523275.8428000004|              21|\n",
      "|     7|              null|     1|             7| 38034.08710000002|               1|\n",
      "|    15|477307.60581000015|     8|            81|477307.60581000015|              14|\n",
      "|    54| 600432.4393900005|    17|           163| 711344.9195400011|              29|\n",
      "|   155|       174342.9883|     9|            58|       198779.2919|               3|\n",
      "|100014| 67703.47208000004|     2|            17| 67703.47208000004|               3|\n",
      "|   132| 475673.8879599996|    16|            96| 483118.9038399997|              17|\n",
      "|   154|              null|     1|            11|20660.023910000007|            null|\n",
      "|   101|433239.37300999917|    12|            86| 447464.0146699989|              16|\n",
      "|    11| 47660.71292000002|     3|            40|159669.96303999983|               9|\n",
      "|   138| 463125.2004699991|    13|            95| 512449.8827599989|              24|\n",
      "|300017| 897406.9802100015|    27|           303| 897406.9802100015|              28|\n",
      "|100021|              null|  null|            11| 57633.17563999999|               5|\n",
      "|    29| 676516.2286400007|    28|           154| 754517.5625700009|              22|\n",
      "|    69|      279030.12575|     7|            72| 286064.0256399999|               9|\n",
      "|   112|              null|     1|             9| 53062.74659000002|               3|\n",
      "+------+------------------+------+--------------+------------------+----------------+\n",
      "only showing top 20 rows\n",
      "\n"
     ]
    }
   ],
   "source": [
    "features.show()"
   ]
  },
  {
   "cell_type": "markdown",
   "metadata": {},
   "source": [
    "Let us prepare the final features dataset where we fill all the null values with 0 and final model input features are captured."
   ]
  },
  {
   "cell_type": "code",
   "execution_count": 90,
   "metadata": {},
   "outputs": [],
   "source": [
    "features = spark.sql(\"\"\"\n",
    "    SELECT\n",
    "        nvl(userId,0) as userId,\n",
    "        nvl(lengthAsPaid,0) as lengthAsPaid,\n",
    "        nvl(Count_ThumpsUp,0) as Count_ThumpsUp,\n",
    "        nvl(n_help,0) as n_help,\n",
    "     \n",
    "        nvl(usageTime,0) as usageTime,\n",
    "        nvl(Count_ThumpsDown,0) as Count_ThumpsDown\n",
    "    FROM\n",
    "        features_table\n",
    "    \"\"\")\n",
    "\n",
    "features.createOrReplaceTempView('features_table')"
   ]
  },
  {
   "cell_type": "code",
   "execution_count": 91,
   "metadata": {},
   "outputs": [
    {
     "name": "stdout",
     "output_type": "stream",
     "text": [
      "+------+------------------+--------------+------+------------------+----------------+\n",
      "|userId|      lengthAsPaid|Count_ThumpsUp|n_help|         usageTime|Count_ThumpsDown|\n",
      "+------+------------------+--------------+------+------------------+----------------+\n",
      "|100010|               0.0|            17|     2| 66940.89735000003|               5|\n",
      "|200002| 72934.26395999998|            21|     2| 94008.87593999993|               6|\n",
      "|   125|               0.0|             0|     0|2089.1131000000005|               0|\n",
      "|   124|1012312.0927899999|           171|    23|1012312.0927899999|              41|\n",
      "|    51| 523275.8428000004|           100|    12| 523275.8428000004|              21|\n",
      "|     7|               0.0|             7|     1| 38034.08710000002|               1|\n",
      "|    15|477307.60581000015|            81|     8|477307.60581000015|              14|\n",
      "|    54| 600432.4393900005|           163|    17| 711344.9195400011|              29|\n",
      "|   155|       174342.9883|            58|     9|       198779.2919|               3|\n",
      "|100014| 67703.47208000004|            17|     2| 67703.47208000004|               3|\n",
      "|   132| 475673.8879599996|            96|    16| 483118.9038399997|              17|\n",
      "|   154|               0.0|            11|     1|20660.023910000007|               0|\n",
      "|   101|433239.37300999917|            86|    12| 447464.0146699989|              16|\n",
      "|    11| 47660.71292000002|            40|     3|159669.96303999983|               9|\n",
      "|   138| 463125.2004699991|            95|    13| 512449.8827599989|              24|\n",
      "|300017| 897406.9802100015|           303|    27| 897406.9802100015|              28|\n",
      "|100021|               0.0|            11|     0| 57633.17563999999|               5|\n",
      "|    29| 676516.2286400007|           154|    28| 754517.5625700009|              22|\n",
      "|    69|      279030.12575|            72|     7| 286064.0256399999|               9|\n",
      "|   112|               0.0|             9|     1| 53062.74659000002|               3|\n",
      "+------+------------------+--------------+------+------------------+----------------+\n",
      "only showing top 20 rows\n",
      "\n"
     ]
    }
   ],
   "source": [
    "features.show()"
   ]
  },
  {
   "cell_type": "markdown",
   "metadata": {},
   "source": [
    "Let us include the target variable"
   ]
  },
  {
   "cell_type": "code",
   "execution_count": 92,
   "metadata": {},
   "outputs": [],
   "source": [
    "targets = spark.sql(\"\"\"\n",
    "    SELECT\n",
    "        distinct userId,\n",
    "        churn as label\n",
    "    FROM\n",
    "        df_table \"\"\"\n",
    "         )\n",
    "\n",
    "targets.createOrReplaceTempView('targets_table')"
   ]
  },
  {
   "cell_type": "code",
   "execution_count": 93,
   "metadata": {},
   "outputs": [],
   "source": [
    "features = spark.sql(\"\"\"\n",
    "    SELECT\n",
    "        f.*,\n",
    "        CAST(t.label AS INT) as label\n",
    "    FROM\n",
    "        features_table as f,\n",
    "        targets_table as t\n",
    "    WHERE\n",
    "        f.userId=t.userId\n",
    "        \"\"\")\n",
    "\n",
    "features.createOrReplaceTempView('features_table')"
   ]
  },
  {
   "cell_type": "markdown",
   "metadata": {},
   "source": [
    "# Modeling\n",
    "\n",
    "Here let us split the data into train and valid/test. Let us test some machine learning methods that are covered in the tutorials. As the dataset is small and the target variable is of soem imbalance - it is better to evaluate with f1 score as metric. \n"
   ]
  },
  {
   "cell_type": "markdown",
   "metadata": {},
   "source": [
    "Here we need to scale the data - because we observe that  all the column values are with different range values. Hence it is better to scale the data and send as inputs to the model"
   ]
  },
  {
   "cell_type": "code",
   "execution_count": 94,
   "metadata": {},
   "outputs": [],
   "source": [
    "assembler = VectorAssembler(inputCols=[ \"lengthAsPaid\",\"Count_ThumpsUp\",\"n_help\",\"usageTime\"], outputCol=\"inputAllFeatures\")\n",
    "scaler = Normalizer(inputCol=\"inputAllFeatures\", outputCol=\"ScaledAllFeatures\")"
   ]
  },
  {
   "cell_type": "markdown",
   "metadata": {},
   "source": [
    "Let us apply the Logistic regression and GBT classifier method for our model output results."
   ]
  },
  {
   "cell_type": "code",
   "execution_count": 95,
   "metadata": {},
   "outputs": [],
   "source": [
    "model_lr = LogisticRegression(featuresCol=\"ScaledAllFeatures\", labelCol=\"label\", maxIter=20, regParam=0.01)\n",
    "pipeline_lr = Pipeline(stages=[assembler, scaler, model_lr])"
   ]
  },
  {
   "cell_type": "code",
   "execution_count": 96,
   "metadata": {},
   "outputs": [],
   "source": [
    "train, test = features.randomSplit([0.8, 0.2])"
   ]
  },
  {
   "cell_type": "code",
   "execution_count": 97,
   "metadata": {},
   "outputs": [],
   "source": [
    "model_lr_fitted = pipeline_lr.fit(train)"
   ]
  },
  {
   "cell_type": "code",
   "execution_count": 98,
   "metadata": {},
   "outputs": [],
   "source": [
    "def model_output(model, test_data, metric = 'f1'):\n",
    "    \"\"\" Evaluate a machine learning model's performance \n",
    "    \n",
    "        Input: \n",
    "            model(object) - trained model or pipeline object\n",
    "            metric - the metric used to measure performance\n",
    "            data - test data on which performance measurement should be performed\n",
    "        Output:\n",
    "            score\n",
    "    \"\"\"\n",
    "    \n",
    "    evaluator = MulticlassClassificationEvaluator(metricName = metric)\n",
    "    predictions = model.transform(test_data)\n",
    "    \n",
    "    # calcualte score\n",
    "    score = evaluator.evaluate(predictions)\n",
    "    \n",
    "    return score"
   ]
  },
  {
   "cell_type": "code",
   "execution_count": 99,
   "metadata": {},
   "outputs": [
    {
     "data": {
      "text/plain": [
       "0.6805555555555557"
      ]
     },
     "execution_count": 99,
     "metadata": {},
     "output_type": "execute_result"
    }
   ],
   "source": [
    "model_output(model_lr_fitted, test)"
   ]
  },
  {
   "cell_type": "markdown",
   "metadata": {},
   "source": [
    "### Improvement in Score"
   ]
  },
  {
   "cell_type": "markdown",
   "metadata": {},
   "source": [
    "For checking for any improvements in score - let us check with gradient boosting classifier tree as an algorithm"
   ]
  },
  {
   "cell_type": "code",
   "execution_count": 100,
   "metadata": {},
   "outputs": [],
   "source": [
    "model_gbt = GBTClassifier(featuresCol=\"ScaledAllFeatures\", labelCol=\"label\")\n",
    "pipeline_gbt = Pipeline(stages=[assembler, scaler, model_gbt])\n",
    "model_gbt_fitted = pipeline_gbt.fit(train)"
   ]
  },
  {
   "cell_type": "code",
   "execution_count": 101,
   "metadata": {},
   "outputs": [
    {
     "data": {
      "text/plain": [
       "0.7178175618073316"
      ]
     },
     "execution_count": 101,
     "metadata": {},
     "output_type": "execute_result"
    }
   ],
   "source": [
    "model_output(model_gbt_fitted, test)"
   ]
  },
  {
   "cell_type": "markdown",
   "metadata": {},
   "source": [
    "GBT classifier had showed improvement in scores"
   ]
  }
 ],
 "metadata": {
  "kernelspec": {
   "display_name": "Python 3",
   "language": "python",
   "name": "python3"
  },
  "language_info": {
   "codemirror_mode": {
    "name": "ipython",
    "version": 3
   },
   "file_extension": ".py",
   "mimetype": "text/x-python",
   "name": "python",
   "nbconvert_exporter": "python",
   "pygments_lexer": "ipython3",
   "version": "3.6.3"
  }
 },
 "nbformat": 4,
 "nbformat_minor": 2
}
